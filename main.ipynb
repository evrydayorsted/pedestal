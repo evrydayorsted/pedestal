{
 "cells": [
  {
   "cell_type": "code",
   "execution_count": 11,
   "metadata": {},
   "outputs": [
    {
     "name": "stdout",
     "output_type": "stream",
     "text": [
      "Pkl data loaded\n"
     ]
    }
   ],
   "source": [
    "from Shot import *\n",
    "\n",
    "a = Shot(47955, \"pkl\")"
   ]
  },
  {
   "cell_type": "code",
   "execution_count": 12,
   "metadata": {},
   "outputs": [
    {
     "data": {
      "text/plain": [
       "[<matplotlib.lines.Line2D at 0x1567eb110>]"
      ]
     },
     "execution_count": 12,
     "metadata": {},
     "output_type": "execute_result"
    },
    {
     "data": {
      "image/png": "[encoded data removed]",
      "text/plain": [
       "<Figure size 640x480 with 1 Axes>"
      ]
     },
     "metadata": {},
     "output_type": "display_data"
    }
   ],
   "source": [
    "plt.plot(a.NBI_power)"
   ]
  },
  {
   "cell_type": "code",
   "execution_count": null,
   "metadata": {},
   "outputs": [],
   "source": []
  },
  {
   "cell_type": "code",
   "execution_count": null,
   "metadata": {},
   "outputs": [],
   "source": [
    "\n",
    "import numpy as np\n",
    "from matplotlib import pyplot as plt\n",
    "from matplotlib import animation\n",
    "shots = [\n",
    "47885,47886,47888,47889,47890,47891,47893,47894,47918,47955,47958,47959,47961,47962,47963,47964,47979,47980,47985,47989,47990,47991,47996,47997,47998,47999,48000,48002,48003,48004,48005,48006,48008, 48009, 48010, 48012, 48057, 48058, 48060, 48061, 48062, 48064, 48065, 48066, 48068, 48069, 48070, 48072, 48073, 48074, 48079, 48080, 48081, 48082, 48083, 48087, 48088, 48089, 48093, 48094,48103,48104,48107,48108,48109,48110,48111,48112,48113,48114,48115,48116,48117,48118,48119,48120,48121,48122,48123,48124,48125,48126,48127,48129,48130,48131,48132,48133,48134,48135,48136,48137,48151,48155,48157,48158,48159,48160,48164,48168,48172,48173,48174,48175,48176,48177,48178,48180,48181,48183,48186,48187,48188,48189,48193,48194,48196,48198,48200,48219,48221,48223,48233,48235,48251,48252,48255,48256,48257,48258,48259,48260,48261,48263,48265,48267,48268,48269,48270,48271,48272,48273,48275,48276,48278,48279,48280,48281,48284,48285,48286,48287,48288,48292,48293,48295,48297,48298,48299,48302,48303,48304,48305,48309,48310,48311,48312,48313,48314,48315,48316,48326,48330,48332,48333,48334,48336,48337,48338,48339,48340,48341,48342,48343,48344,48345,48347,48348,48353,48354,48359,48361,48363,48366,48367,48368,48369,48370,48558,48559,48560,48561,48579,48580,48594,48595,48596,48597,48598,48599,48602,48603,48604,48605,48606,48609,48611,48614,48615,48616,48617,48618,48619,48620,48622,48623,48630,48631,48632,48634,48636,48638,48639,48640,48641,48642,48643,48646,48647,48648,48649,48651,48652,48653,48654,48655,48656,48657,48658,48666,48668,48669,48670,48671,48672,48710,48711,48712,48714,48715,48716,48717,48718,48721,48722,48723,48725,48726,48735,48738,48740,48743,48745,48749,48750,48752,48755,48758,48759,48760,48761,48762,48763,48764,48765,48766,48767,48768,48769,48772,48777,48778,48779,48780,48788,48789,48791,48797,48798,48799,48800,48801,48802,48803,48804,48805,48806,48807,48808,48809,48811,48812,48813,48816,48817,48818,48819,48820,48821,48822,48823,48824,48825,48826,48827,48828,48829,48830,48832,48834,48835,48836,48840,48841,48842,48844,48845,48846,48847,48849,48850,48851,48853,48863,48864,48866,48867,48868,48869,48870,48871,48872,48873,48874,48879,48880,48882,48883,48884,48885,48886,48888,48889,48890,48892,48893,48894,48895,48896,48898,48899,48900,48901,48902,48903,48904,48906,48907,48908,48909,48910,48911,48912,48913,48915,48916,48917,48918,48919,48920,48921,48925,48926,48927,48928,48929,48930,48931,48932,48933,48934,48935,48936,49033,49034,49035,49036,49037,49038,49039,49040,49042,49045,49046,49047,49048,49049,49050,49051,49052,49054,49055,49056,49057,49058,49059,49060,49061,49062,49066,49070,49071,49072,49073,49074,49075,49076,49077,49078,49080,49081,49084,49091,49093,49094,49095,49099,49101,49102,49103,49104,49105,49106,49107,49108,49109,49110,49111,49112,49113,49117,49118,49119,49120,49121,49122,49123,49124,49125,49126,49127,49128,49130,49131,49134,49135,49136,49137,49138,49139,49140,49141,49142,49143,49145,49146,49147,49148,49149,49150,49151,49152,49154,49157,49159,49162,49163,49164,49166,49167,49168,49169,49170,49171,49172,49173,49174,49175,49177,49178,49179,49180,49181,49182,49183,49184,49186,49187,49188,49189,49190,49191,49192,49194,49195,49196,49197,49198,49200,49204,49205,49206,49208,49209,49210,49211,49212,49213,49214,49216,49217,49218,49219,49220\n",
    "]\n",
    "# First set up the figure, the axis, and the plot element we want to animate\n",
    "fig = plt.figure()\n",
    "ax = plt.axes(xlim=(0, 130), ylim=(1.5, 2.5))\n",
    "line, = ax.plot([], [], lw=2)\n",
    "\n",
    "# initialization function: plot the background of each frame\n",
    "def init():\n",
    "    line.set_data([], [])\n",
    "    return line,\n",
    "\n",
    "# animation function.  This is called sequentially\n",
    "def animate(i):\n",
    "    print(\"test\")\n",
    "   \n",
    "    a = Shot(shots[i], \"pkl\")\n",
    "    \n",
    "    y = a.elong\n",
    "    x = np.linspace(0, 130, len(a.elong))\n",
    "    line.set_data(x, y)\n",
    "    return line,\n",
    "\n",
    "# call the animator.  blit=True means only re-draw the parts that have changed.\n",
    "anim = animation.FuncAnimation(fig, animate, init_func=init,\n",
    "                               frames=200, interval=20, blit=True)\n",
    "\n",
    "# save the animation as an mp4.  This requires ffmpeg or mencoder to be\n",
    "# installed.  The extra_args ensure that the x264 codec is used, so that\n",
    "# the video can be embedded in html5.  You may need to adjust this for\n",
    "# your system: for more information, see\n",
    "# http://matplotlib.sourceforge.net/api/animation_api.html\n",
    "anim.save('animations/basic_animation.mp4', fps=30)\n",
    "\"\"\n",
    "plt.show()"
   ]
  },
  {
   "cell_type": "code",
   "execution_count": null,
   "metadata": {},
   "outputs": [],
   "source": [
    "shots = [\n",
    "47885,47886,47888,47889,47890,47891,47893,47894,47918,47955,47958,47959,47961,47962,47963,47964,47979,47980,47985,47989,47990,47991,47996,47997,47998,47999,48000,48002,48003,48004,48005,48006,48008, 48009, 48010, 48012, 48057, 48058, 48060, 48061, 48062, 48064, 48065, 48066, 48068, 48069, 48070, 48072, 48073, 48074, 48079, 48080, 48081, 48082, 48083, 48087, 48088, 48089, 48093, 48094,48103,48104,48107,48108,48109,48110,48111,48112,48113,48114,48115,48116,48117,48118,48119,48120,48121,48122,48123,48124,48125,48126,48127,48129,48130,48131,48132,48133,48134,48135,48136,48137,48151,48155,48157,48158,48159,48160,48164,48168,48172,48173,48174,48175,48176,48177,48178,48180,48181,48183,48186,48187,48188,48189,48193,48194,48196,48198,48200,48219,48221,48223,48233,48235,48251,48252,48255,48256,48257,48258,48259,48260,48261,48263,48265,48267,48268,48269,48270,48271,48272,48273,48275,48276,48278,48279,48280,48281,48284,48285,48286,48287,48288,48292,48293,48295,48297,48298,48299,48302,48303,48304,48305,48309,48310,48311,48312,48313,48314,48315,48316,48326,48330,48332,48333,48334,48336,48337,48338,48339,48340,48341,48342,48343,48344,48345,48347,48348,48353,48354,48359,48361,48363,48366,48367,48368,48369,48370,48558,48559,48560,48561,48579,48580,48594,48595,48596,48597,48598,48599,48602,48603,48604,48605,48606,48609,48611,48614,48615,48616,48617,48618,48619,48620,48622,48623,48630,48631,48632,48634,48636,48638,48639,48640,48641,48642,48643,48646,48647,48648,48649,48651,48652,48653,48654,48655,48656,48657,48658,48666,48668,48669,48670,48671,48672,48710,48711,48712,48714,48715,48716,48717,48718,48721,48722,48723,48725,48726,48735,48738,48740,48743,48745,48749,48750,48752,48755,48758,48759,48760,48761,48762,48763,48764,48765,48766,48767,48768,48769,48772,48777,48778,48779,48780,48788,48789,48791,48797,48798,48799,48800,48801,48802,48803,48804,48805,48806,48807,48808,48809,48811,48812,48813,48816,48817,48818,48819,48820,48821,48822,48823,48824,48825,48826,48827,48828,48829,48830,48832,48834,48835,48836,48840,48841,48842,48844,48845,48846,48847,48849,48850,48851,48853,48863,48864,48866,48867,48868,48869,48870,48871,48872,48873,48874,48879,48880,48882,48883,48884,48885,48886,48888,48889,48890,48892,48893,48894,48895,48896,48898,48899,48900,48901,48902,48903,48904,48906,48907,48908,48909,48910,48911,48912,48913,48915,48916,48917,48918,48919,48920,48921,48925,48926,48927,48928,48929,48930,48931,48932,48933,48934,48935,48936,49033,49034,49035,49036,49037,49038,49039,49040,49042,49045,49046,49047,49048,49049,49050,49051,49052,49054,49055,49056,49057,49058,49059,49060,49061,49062,49066,49070,49071,49072,49073,49074,49075,49076,49077,49078,49080,49081,49084,49091,49093,49094,49095,49099,49101,49102,49103,49104,49105,49106,49107,49108,49109,49110,49111,49112,49113,49117,49118,49119,49120,49121,49122,49123,49124,49125,49126,49127,49128,49130,49131,49134,49135,49136,49137,49138,49139,49140,49141,49142,49143,49145,49146,49147,49148,49149,49150,49151,49152,49154,49157,49159,49162,49163,49164,49166,49167,49168,49169,49170,49171,49172,49173,49174,49175,49177,49178,49179,49180,49181,49182,49183,49184,49186,49187,49188,49189,49190,49191,49192,49194,49195,49196,49197,49198,49200,49204,49205,49206,49208,49209,49210,49211,49212,49213,49214,49216,49217,49218,49219,49220\n",
    "]\n",
    "for i in shots:\n",
    "    a = Shot(i, \"pkl\")\n",
    "    plt.plot(a.elong)\n",
    "    plt.xlim(0,130)\n",
    "    plt.ylim(1.5, 2.5)\n",
    "    plt.title(i)\n",
    "    plt.show()\n",
    "    "
   ]
  },
  {
   "cell_type": "code",
   "execution_count": null,
   "metadata": {},
   "outputs": [],
   "source": [
    "a.contourPlot(12, lowSlopeFilter=True,numPix=50,IpMin=0.9, numMin=0, cbarMin=1.9,cbarMax=2.2, countType=\"elong\")\n"
   ]
  },
  {
   "cell_type": "code",
   "execution_count": null,
   "metadata": {},
   "outputs": [],
   "source": [
    "a.contourPlot(10, lowSlopeFilter=False, IpMin=0.9, numMin=0, posPed=False)"
   ]
  },
  {
   "cell_type": "code",
   "execution_count": null,
   "metadata": {},
   "outputs": [],
   "source": [
    "a.contourPlot(2, lowSlopeFilter=True,numPix=40,IpMin=0.9, numMin=10, cbarMin=1.95,cbarMax=2.1, countType=\"elong\", posPed=False)\n"
   ]
  },
  {
   "cell_type": "code",
   "execution_count": null,
   "metadata": {},
   "outputs": [],
   "source": [
    "a.contourPlot(3, numMin=0, lowSlopeFilter=False, IpMin=0, posPed=True)"
   ]
  },
  {
   "cell_type": "code",
   "execution_count": null,
   "metadata": {},
   "outputs": [],
   "source": [
    "plt.plot(a.shotByTimeSlice)"
   ]
  },
  {
   "cell_type": "code",
   "execution_count": null,
   "metadata": {},
   "outputs": [],
   "source": [
    "shots = np.array(a.shotByTimeSlice)\n",
    "times = np.array(a.times)\n",
    "index = np.where((np.array(a.H_ped_psin_ne/1.0e20))<0)\n",
    "plt.plot(np.array(a.H_ped_psin_ne))\n",
    "plt.plot(np.array(a.H_ped_psin_ne)[index])"
   ]
  },
  {
   "cell_type": "code",
   "execution_count": null,
   "metadata": {},
   "outputs": [],
   "source": [
    "from Shot import *\n",
    "a = Shot(\"allShots\", \"pkl\")\n",
    "\n",
    "shots = np.array(a.shotByTimeSlice)\n",
    "times = np.array(a.times)\n",
    "IpAdjusted = np.array(a.IpAdjusted)\n",
    "IpMax = np.array(a.IpMax)\n",
    "print(a.IpAdjusted)\n",
    "index = np.where((np.array(a.H_ped_psin_ne)/1.0e20<0.205) &\n",
    "                 (np.array(a.H_ped_psin_ne)/1.0e20>0.195) &\n",
    "                 (a.Beta_ped/a.W_ped >0.75) &\n",
    "                 (np.array(a.elong)> 2.1)&\n",
    "                 (np.array(a.H_ped_psin_te)/1000.0>0.2) &\n",
    "                 (np.array(a.IpAdjusted)>0.9*np.array(a.IpMax)))\n",
    "highElongShotTimes = (shots[index], times[index], np.array(a.elong)[index])\n",
    "print(highElongShotTimes)\n",
    "\n",
    "print(len(highElongShotTimes[0]))\n",
    "\n",
    "print(len(highElongShotTimes[1]))\n",
    "for i in range(0, 70, 7):\n",
    "    print(\"elong\", highElongShotTimes[2][i])\n",
    "    b = Shot(highElongShotTimes[0][i], \"both\")\n",
    "    b.fit(plotVsRadius = True, saveFigure=True, showFigure=True, presetTimes = [highElongShotTimes[1][i]], printQuantities=True)"
   ]
  },
  {
   "cell_type": "code",
   "execution_count": null,
   "metadata": {},
   "outputs": [],
   "source": [
    "a.contourPlot(3, countType=\"elong\", cbarMin=1.9, cbarMax=2.1, numMin=10)"
   ]
  },
  {
   "cell_type": "code",
   "execution_count": null,
   "metadata": {},
   "outputs": [],
   "source": [
    "a.contourPlot(2, countType=\"elong\", cbarMin=1.9, cbarMax=2.1, numMin=10)"
   ]
  },
  {
   "cell_type": "code",
   "execution_count": null,
   "metadata": {},
   "outputs": [],
   "source": [
    "a.contourPlot(4, countType=\"elong\", cbarMin=1.9, cbarMax=2.1, numMin=10)"
   ]
  },
  {
   "cell_type": "code",
   "execution_count": null,
   "metadata": {},
   "outputs": [],
   "source": [
    "shot61= Shot(45261, \"all\")\n",
    "shot70= Shot(45270, \"all\")\n",
    "shot72= Shot(45272, \"pkl\")"
   ]
  },
  {
   "cell_type": "code",
   "execution_count": null,
   "metadata": {},
   "outputs": [],
   "source": [
    "shots = [shot61, shot70, shot72]\n",
    "\n",
    "for i in shots:\n",
    "    i.fit(savefigure=True, showfigure=True, plotvsradius=True, plotvspsin=True, presetTimes[])"
   ]
  },
  {
   "cell_type": "code",
   "execution_count": null,
   "metadata": {},
   "outputs": [],
   "source": [
    "a.contourPlot(5)"
   ]
  },
  {
   "cell_type": "code",
   "execution_count": null,
   "metadata": {},
   "outputs": [],
   "source": [
    "def curve(elong, delta, Beta_ped, elongPower, ), ,m):\n",
    "    return  m*x\n",
    "\n",
    "(popt,pcov) = curve_fit(curve, validXQuantity, validYQuantity, p0=(20))\n",
    "# popt now holds the optimized parameters a in popt[0] and b in popt[1]\n",
    "# pcov is the covariance matrix, which gives errors and correlations.\n",
    "# To extract just the errors on the fit parameters as sigmas:\n",
    "popt = np.round(popt, 3)\n",
    "perr = np.round(np.sqrt(np.diag(pcov)), 3)\n",
    "# now perr holds the +- 1sigma error for a and b.\n",
    "# First plot the data with error bars\n",
    "#plt.plot(xquantity, yquantity, \"o\", label=\"data\", color=\"black\")\n",
    "# There are many ways to plot the line given a and b, but here’s one:\n",
    "yfit = curve(x_width, *popt) # * passes a list as remaining function parameters\n",
    "\n",
    "# plots the fit curve\n",
    "plt.plot(x_width, yfit,label=f\"fit - {popt[0]}$\\pm${perr[0]} $\\delta$\", color=\"black\")\n",
    "\n",
    "#Plots the points that were fitted\n",
    "plt.plot(validXQuantity, validYQuantity, \".\", markersize = 0.5, color=\"red\")\n",
    "plt.legend()\n",
    "# savefig(\"hw1_meaningful_file_name.pdf\")"
   ]
  },
  {
   "cell_type": "code",
   "execution_count": null,
   "metadata": {},
   "outputs": [],
   "source": [
    "from Shot import *\n",
    "allShots = Shot(\"allShots\", \"pkl\")"
   ]
  },
  {
   "cell_type": "code",
   "execution_count": null,
   "metadata": {},
   "outputs": [],
   "source": [
    "for i in range(10):\n",
    "    allShots.contourPlot(1, savefigure=False, IpMin=0.1*i)"
   ]
  },
  {
   "cell_type": "code",
   "execution_count": null,
   "metadata": {},
   "outputs": [],
   "source": [
    "\n",
    "# make scatter plot colored by time \n",
    "\n",
    "plt.scatter(x=allShots.W_ped, y=allShots.Beta_ped, c=allShots.Ip[np.argmin(np.abs(allShots.IpTime-allShots.times    ))]/np.max(allShots.Ip), cmap=\"rainbow\", s= 0.6, alpha=0.6) \n",
    "plt.xlim(1, 3)\n",
    "plt.xlabel(r\"Aspect Ratio\")\n",
    "plt.ylabel(r\"$\\delta$\")\n",
    "plt.ylim(0,.75)\n",
    "plt.colorbar(label=\"Time in shot\", orientation=\"horizontal\") \n",
    "plt.savefig(\"allShotsAratioVsDeltaTimeColored.png\")\n",
    "plt.show()"
   ]
  },
  {
   "cell_type": "code",
   "execution_count": null,
   "metadata": {},
   "outputs": [],
   "source": [
    "allShots.times.shape"
   ]
  },
  {
   "cell_type": "code",
   "execution_count": null,
   "metadata": {},
   "outputs": [],
   "source": [
    "# from Shot import *\n",
    "# listMaxes = []\n",
    "# IpAdjusted = []\n",
    "# totalTimes = 0\n",
    "# for i in range(2000):\n",
    "#     value = 47885 + i\n",
    "#     try:\n",
    "#         a = Shot(value, \"pkl\")\n",
    "#         totalTimes +=len(a.times)\n",
    "#         print(np.max(a.Ip))\n",
    "#         localIpAdj=[]\n",
    "#         for k in a.times:\n",
    "#             localIpAdj += [a.Ip[np.argmin(np.abs(a.IpTime-k))]]\n",
    "#         for j in range(len(a.times)):\n",
    "#             listMaxes += [np.max(localIpAdj)]\n",
    "#         IpAdjusted += localIpAdj\n",
    "#     except:\n",
    "#         pass\n",
    "# print(listMaxes)\n",
    "# print(len(listMaxes))\n",
    "# print(IpAdjusted)\n",
    "# print(len(IpAdjusted))\n",
    "from Shot import *\n",
    "shotNums = []\n",
    "totalTimes = 0\n",
    "for i in range(2000):\n",
    "    value = 47885 + i\n",
    "    try:\n",
    "        a = Shot(value, \"pkl\")\n",
    "        totalTimes +=len(a.times)       \n",
    "        for j in range(len(a.times)):\n",
    "            shotNums += [value]\n",
    "    except:\n",
    "        pass\n",
    "print(totalTimes)\n",
    "print(shotNums)\n",
    "print(len(shotNums))\n"
   ]
  },
  {
   "cell_type": "code",
   "execution_count": null,
   "metadata": {},
   "outputs": [],
   "source": [
    "plt.plot(shotNums)"
   ]
  },
  {
   "cell_type": "code",
   "execution_count": null,
   "metadata": {},
   "outputs": [],
   "source": [
    "plt.plot(listMaxes)"
   ]
  },
  {
   "cell_type": "code",
   "execution_count": null,
   "metadata": {},
   "outputs": [],
   "source": [
    "np.ones(10, dtype=float)*2"
   ]
  },
  {
   "cell_type": "code",
   "execution_count": 3,
   "metadata": {},
   "outputs": [
    {
     "name": "stdout",
     "output_type": "stream",
     "text": [
      "Pkl data loaded\n"
     ]
    }
   ],
   "source": [
    "filename = 'outputWithPlasmaCurrent/MAST-U_pedestal_allShots.pkl'\n",
    "infile = open(filename, 'rb')\n",
    "pkldata = pickle.load(infile)\n",
    "infile.close()\n",
    "\n",
    "#read off values\n",
    "shot = pkldata['Shot']\n",
    "times = pkldata['Times']\n",
    "W_ped = pkldata['W_ped']\n",
    "Beta_ped = pkldata['Beta_ped']\n",
    "W_ped_psin_te = pkldata['W_ped_psin_te']\n",
    "W_ped_psin_ne = pkldata['W_ped_psin_ne']\n",
    "W_ped_psin_pe = pkldata['W_ped_psin_pe']\n",
    "H_ped_psin_te = pkldata['H_ped_psin_te']\n",
    "H_ped_psin_ne = pkldata['H_ped_psin_ne']\n",
    "H_ped_psin_pe = pkldata['H_ped_psin_pe']\n",
    "W_ped_radius_te = pkldata['W_ped_radius_te']\n",
    "W_ped_radius_ne = pkldata['W_ped_radius_ne']\n",
    "W_ped_radius_pe = pkldata['W_ped_radius_pe']\n",
    "H_ped_radius_te = pkldata['H_ped_radius_te']\n",
    "H_ped_radius_ne = pkldata['H_ped_radius_ne']\n",
    "H_ped_radius_pe = pkldata['H_ped_radius_pe']\n",
    "Aratio = pkldata['Aratio']\n",
    "elong  = pkldata['elong']\n",
    "delta = pkldata['delta']\n",
    "Ip = pkldata['Ip']\n",
    "IpTime = pkldata['IpTime']\n",
    "listMaxes = pkldata['IpMax']\n",
    "IpAdjusted = pkldata['IpTimeAdjusted']\n",
    "shotNums = pkldata['ShotNum']\n",
    "\n",
    "print(\"Pkl data loaded\")\n",
    "pkldata = {'Shot': shot, 'Times': times, 'W_ped': W_ped, 'Beta_ped': Beta_ped,\n",
    "                    'W_ped_psin_te': W_ped_psin_te,'W_ped_psin_ne': W_ped_psin_ne,'W_ped_psin_pe': W_ped_psin_pe,\n",
    "                    'H_ped_psin_te': H_ped_psin_te,'H_ped_psin_ne': H_ped_psin_ne,'H_ped_psin_pe': H_ped_psin_pe,\n",
    "                    'W_ped_radius_te': W_ped_radius_te,'W_ped_radius_ne': W_ped_radius_ne,'W_ped_radius_pe': W_ped_radius_pe,\n",
    "                    'H_ped_radius_te': H_ped_radius_te,'H_ped_radius_ne': H_ped_radius_ne,'H_ped_radius_pe': H_ped_radius_pe,\n",
    "                    'Aratio': Aratio, 'elong': elong, 'delta': delta, 'Ip': Ip, 'IpTime': IpTime, \"IpMax\":listMaxes, \"IpTimeAdjusted\": IpAdjusted, 'ShotNum': shotNums}\n",
    "filename = 'outputWithPlasmaCurrent/MAST-U_pedestal_allShots240702.pkl'\n",
    "outfile = open(filename, 'wb')\n",
    "pickle.dump(pkldata,outfile)\n",
    "outfile.close()\n",
    "\n"
   ]
  },
  {
   "cell_type": "code",
   "execution_count": null,
   "metadata": {},
   "outputs": [],
   "source": [
    "from Shot import *\n",
    "b = Shot(\"allShots\", \"pkl\")"
   ]
  },
  {
   "cell_type": "code",
   "execution_count": null,
   "metadata": {},
   "outputs": [],
   "source": [
    "for i in range(10):\n",
    "    b.contourPlot(1, savefigure=False, IpMin=0.9, LModeFilter=False)"
   ]
  },
  {
   "cell_type": "code",
   "execution_count": null,
   "metadata": {},
   "outputs": [],
   "source": [
    "\n",
    "# make scatter plot colored by time \n",
    "\n",
    "plt.scatter(y=b.delta, x=b.elong, c=np.array(b.IpAdjusted)/np.array(b.IpMax), cmap=\"rainbow\", s= 0.6, alpha=0.6) \n",
    "# plt.xlim(1,3)\n",
    "plt.ylabel(r\"$\\delta$\")\n",
    "plt.xlabel(r\"$\\kappa$\")\n",
    "# plt.ylim(0,1)\n",
    "plt.colorbar(label=\"Fraction of Max Plasma Current\", orientation=\"horizontal\") \n",
    "plt.savefig(\"allShotsElongVsDeltaIpColored.png\")\n",
    "plt.show()"
   ]
  },
  {
   "cell_type": "code",
   "execution_count": null,
   "metadata": {},
   "outputs": [],
   "source": [
    "plt.plot(np.array(b.IpAdjusted)/np.array(b.IpMax))\n",
    "# plt.xlim(0, 1000)"
   ]
  },
  {
   "cell_type": "code",
   "execution_count": null,
   "metadata": {},
   "outputs": [],
   "source": [
    "plt.plot(b.IpMax)\n",
    "plt.xlim(0, 1000)"
   ]
  },
  {
   "cell_type": "code",
   "execution_count": null,
   "metadata": {},
   "outputs": [],
   "source": [
    "b = Shot(\"allShots\", \"pkl\")\n",
    "b.contourPlot(1,IpMin=0.90)"
   ]
  },
  {
   "cell_type": "code",
   "execution_count": null,
   "metadata": {},
   "outputs": [],
   "source": [
    "b.contourPlot(10, IpMin=0, savefigure=False)"
   ]
  },
  {
   "cell_type": "code",
   "execution_count": null,
   "metadata": {},
   "outputs": [],
   "source": [
    "from Shot import *\n",
    "b = Shot(\"allShots\", \"pkl\")\n",
    "b.contourPlot(10, IpMin=0.9, numMin=10, cbarMin=1, cbarMax=3,savefigure=False, LModeFilter=True)"
   ]
  },
  {
   "cell_type": "code",
   "execution_count": null,
   "metadata": {},
   "outputs": [],
   "source": [
    "b.contourPlot(1, savefigure=False)"
   ]
  },
  {
   "cell_type": "code",
   "execution_count": null,
   "metadata": {},
   "outputs": [],
   "source": [
    "from Shot import *\n",
    "a = Shot(\"allShots\", \"pkl\")"
   ]
  },
  {
   "cell_type": "code",
   "execution_count": null,
   "metadata": {},
   "outputs": [],
   "source": [
    "a.contourPlot(2, numMin=10, numPix= 40,LModeFilter=True, countType=\"elong\",cbarMin=1.95, cbarMax=2.1)\n",
    "\n"
   ]
  },
  {
   "cell_type": "code",
   "execution_count": null,
   "metadata": {},
   "outputs": [],
   "source": [
    "print(len(a.zz[:, j]))\n",
    "for j in range(4,16,4):\n",
    "    averaged =[]\n",
    "    errbar = []\n",
    "    for i in range(2, len(a.zz[:, j])-2):\n",
    "        averaged += [np.sum(a.zz[i-2:i+3, j])/5]\n",
    "        errbar += [np.std(a.zz[i-2:i+3, j])]\n",
    "    print(averaged)\n",
    "    # plt.plot(a.zz[:, 17])\n",
    "    plt.errorbar(np.linspace(0, 0.2, len(a.zz[:,j])-4),y=averaged, yerr=errbar, fmt='o', linestyle='-', capsize=4,label=\"Delta=\"+str(np.round(j*0.2/len(a.zz[:,j]), 5)))\n",
    "plt.ylabel(r\"Average $\\kappa$\")\n",
    "plt.xlabel(r\"$T{e, ped}$\")\n",
    "plt.legend()\n",
    "plt.show()\n",
    "# for k in range(0,15,1):\n",
    "    \n",
    "#     plt.plot(np.linspace(0, 0.2, len(a.zz[:,j])),a.zz[:,j], label=\"Delta=\"+str(np.round(j*0.1/15, 2)))\n",
    "# plt.ylabel(r\"Average $\\kappa$\")\n",
    "# plt.xlabel(r\"$\\Delta_{ped, Te}$\")\n",
    "# plt.legend()\n",
    "# plt.show()\n",
    "\n"
   ]
  },
  {
   "cell_type": "code",
   "execution_count": null,
   "metadata": {},
   "outputs": [],
   "source": [
    "j = 5\n",
    "averaged =[]\n",
    "for i in range(2, len(a.zz[:, j])-2):\n",
    "    averaged += [np.sum(a.zz[i-2:i+3, j])/5]\n",
    "\n",
    "\n",
    "# plt.plot(a.zz[:, 17])\n",
    "plt.plot(averaged, label=j)\n",
    "plt.legend()"
   ]
  },
  {
   "cell_type": "code",
   "execution_count": null,
   "metadata": {},
   "outputs": [],
   "source": [
    "for i in range(10):\n",
    "    plt.plot(a.zz[:,int(0.01*i*300)], label=0.01*i)\n",
    "plt.legend()"
   ]
  },
  {
   "cell_type": "code",
   "execution_count": null,
   "metadata": {},
   "outputs": [],
   "source": [
    "a.contourPlot(0, LModeFilter=True, numMin=10, cbarMin = 1, cbarMax =2)"
   ]
  },
  {
   "cell_type": "code",
   "execution_count": null,
   "metadata": {},
   "outputs": [],
   "source": [
    "a.contourPlot(11, LModeFilter=True, numMin=10, cbarMin=1)"
   ]
  },
  {
   "cell_type": "code",
   "execution_count": null,
   "metadata": {},
   "outputs": [],
   "source": [
    "a.contourPlot(8, numPix=40, numMin=10, LModeFilter=True, cbarMin=0.75, cbarMax=3.75,countType=\"pedestalHeight\")"
   ]
  },
  {
   "cell_type": "code",
   "execution_count": null,
   "metadata": {},
   "outputs": [],
   "source": [
    "b = np.array([1.5, 2., 3.])"
   ]
  },
  {
   "cell_type": "code",
   "execution_count": null,
   "metadata": {},
   "outputs": [],
   "source": [
    "c = b.astype(int)"
   ]
  },
  {
   "cell_type": "code",
   "execution_count": null,
   "metadata": {},
   "outputs": [],
   "source": [
    "c"
   ]
  },
  {
   "cell_type": "code",
   "execution_count": null,
   "metadata": {},
   "outputs": [],
   "source": [
    "a.contourPlot(3, numMin=10, LModeFilter=True, countType=\"elong\",cbarMin=1.95, cbarMax=2.1)"
   ]
  },
  {
   "cell_type": "code",
   "execution_count": null,
   "metadata": {},
   "outputs": [],
   "source": [
    "b.contourPlot(0)"
   ]
  },
  {
   "cell_type": "code",
   "execution_count": null,
   "metadata": {},
   "outputs": [],
   "source": [
    "a = Shot(45270, \"all\")"
   ]
  },
  {
   "cell_type": "code",
   "execution_count": null,
   "metadata": {},
   "outputs": [],
   "source": [
    "a.fit()"
   ]
  },
  {
   "cell_type": "code",
   "execution_count": null,
   "metadata": {},
   "outputs": [],
   "source": [
    "from Shot import *\n"
   ]
  },
  {
   "cell_type": "code",
   "execution_count": null,
   "metadata": {},
   "outputs": [],
   "source": [
    "a = Shot()"
   ]
  },
  {
   "cell_type": "code",
   "execution_count": null,
   "metadata": {},
   "outputs": [],
   "source": []
  },
  {
   "cell_type": "code",
   "execution_count": null,
   "metadata": {},
   "outputs": [],
   "source": []
  },
  {
   "cell_type": "code",
   "execution_count": null,
   "metadata": {},
   "outputs": [],
   "source": [
    "from Shot import *\n",
    "a = Shot(\"allShots\", \"pkl\")\n",
    "for i in range(1):\n",
    "    a.contourPlot(2, lowSlopeFilter=True,numPix=40,IpMin=0.9, numMin=10, cbarMin=1.95,cbarMax=2.1, countType=\"elong\")\n"
   ]
  },
  {
   "cell_type": "code",
   "execution_count": null,
   "metadata": {},
   "outputs": [],
   "source": [
    "from Shot import *\n",
    "a = Shot(\"allShots\", \"pkl\")\n",
    "for i in range(1):\n",
    "    a.contourPlot(3, lowSlopeFilter=True,numPix=50,IpMin=0.9, numMin=10, cbarMin=1.95,cbarMax=2.1, countType=\"elong\")\n"
   ]
  },
  {
   "cell_type": "code",
   "execution_count": null,
   "metadata": {},
   "outputs": [],
   "source": [
    "a.contourPlot(10, lowSlopeFilter=True, IpMin=0.9, numMin=10, numPix=50, cbarMin=1,cbarMax=2.5)\n"
   ]
  },
  {
   "cell_type": "code",
   "execution_count": null,
   "metadata": {},
   "outputs": [],
   "source": [
    "a.contourPlot(1, lowSlopeFilter=True,numPix=45,IpMin=0.9, numMin=10, cbarMin=1,cbarMax=1.8)\n",
    "\n",
    "   \n",
    "a.contourPlot(1, lowSlopeFilter=True,numPix=45,IpMin=0.9, numMin=10, cbarMin=0.4,cbarMax=0.6, countType=\"delta\")\n",
    "\n",
    "\n",
    "\n",
    "\n"
   ]
  },
  {
   "cell_type": "code",
   "execution_count": null,
   "metadata": {},
   "outputs": [],
   "source": [
    "a.contourPlot(1, lowSlopeFilter=True,numPix=45,IpMin=0.9, numMin=10, cbarMin=1.95,cbarMax=2.1, countType=\"elong\")\n"
   ]
  },
  {
   "cell_type": "code",
   "execution_count": null,
   "metadata": {},
   "outputs": [],
   "source": [
    "   a.contourPlot(2, lowSlopeFilter=True,numPix=50,IpMin=0.9, numMin=10, cbarMin=0.45,cbarMax=0.55, countType=\"delta\")\n",
    "\n",
    "   a.contourPlot(3, lowSlopeFilter=True,numPix=50,IpMin=0.9, numMin=10, cbarMin=0.45,cbarMax=0.55, countType=\"delta\")\n",
    "\n",
    "\n"
   ]
  },
  {
   "cell_type": "code",
   "execution_count": null,
   "metadata": {},
   "outputs": [],
   "source": []
  },
  {
   "cell_type": "code",
   "execution_count": null,
   "metadata": {},
   "outputs": [],
   "source": [
    "from Shot import *\n",
    "a = Shot(\"allShots\", \"pkl\")"
   ]
  },
  {
   "cell_type": "code",
   "execution_count": null,
   "metadata": {},
   "outputs": [],
   "source": [
    "a.contourPlot(11, cbarMin=.45, cbarMax=.55, countType=\"delta\", numMin=10)"
   ]
  },
  {
   "cell_type": "code",
   "execution_count": null,
   "metadata": {},
   "outputs": [],
   "source": [
    "a.contourPlot(11, cbarMin=1.95, cbarMax=2.1, countType=\"elong\", numMin=10)"
   ]
  },
  {
   "cell_type": "code",
   "execution_count": null,
   "metadata": {},
   "outputs": [],
   "source": [
    "a.contourPlot(11, cbarMin=1)"
   ]
  },
  {
   "cell_type": "code",
   "execution_count": null,
   "metadata": {},
   "outputs": [],
   "source": [
    "a.contourPlot(2, lowSlopeFilter=True,numPix=50,IpMin=0.9, numMin=10, cbarMin=0.45,cbarMax=0.55, countType=\"delta\")\n",
    "\n",
    "a.contourPlot(3, lowSlopeFilter=True,numPix=50,IpMin=0.9, numMin=10, cbarMin=0.45,cbarMax=0.55, countType=\"delta\")\n",
    "\n",
    "\n"
   ]
  },
  {
   "cell_type": "code",
   "execution_count": null,
   "metadata": {},
   "outputs": [],
   "source": [
    "a.contourPlot(1, lowSlopeFilter=True,numPix=45,IpMin=0.9, numMin=10, cbarMin=0.45,cbarMax=0.55, countType=\"delta\")\n"
   ]
  },
  {
   "cell_type": "code",
   "execution_count": null,
   "metadata": {},
   "outputs": [],
   "source": [
    "a.contourPlot(1, lowSlopeFilter=True,numPix=50,IpMin=0.9, numMin=10, cbarMin=0.45,cbarMax=0.55, countType=\"delta\")\n"
   ]
  },
  {
   "cell_type": "code",
   "execution_count": null,
   "metadata": {},
   "outputs": [],
   "source": [
    "a.contourPlot(1, lowSlopeFilter=True,numPix=50,IpMin=0.9, numMin=10, cbarMin=1,cbarMax=2)\n"
   ]
  },
  {
   "cell_type": "code",
   "execution_count": null,
   "metadata": {},
   "outputs": [],
   "source": []
  },
  {
   "cell_type": "code",
   "execution_count": null,
   "metadata": {},
   "outputs": [],
   "source": []
  },
  {
   "cell_type": "code",
   "execution_count": null,
   "metadata": {},
   "outputs": [],
   "source": []
  },
  {
   "cell_type": "code",
   "execution_count": null,
   "metadata": {},
   "outputs": [],
   "source": []
  },
  {
   "cell_type": "code",
   "execution_count": null,
   "metadata": {},
   "outputs": [],
   "source": []
  },
  {
   "cell_type": "code",
   "execution_count": null,
   "metadata": {},
   "outputs": [],
   "source": [
    "a.contourPlot(1, lowSlopeFilter=True,numPix=50,IpMin=0.9, numMin=10, cbarMin=1.95,cbarMax=2.1, countType=\"elong\")\n"
   ]
  },
  {
   "cell_type": "code",
   "execution_count": null,
   "metadata": {},
   "outputs": [],
   "source": []
  },
  {
   "cell_type": "code",
   "execution_count": null,
   "metadata": {},
   "outputs": [],
   "source": []
  },
  {
   "cell_type": "code",
   "execution_count": null,
   "metadata": {},
   "outputs": [],
   "source": []
  }
 ],
 "metadata": {
  "kernelspec": {
   "display_name": "Python 3",
   "language": "python",
   "name": "python3"
  },
  "language_info": {
   "codemirror_mode": {
    "name": "ipython",
    "version": 3
   },
   "file_extension": ".py",
   "mimetype": "text/x-python",
   "name": "python",
   "nbconvert_exporter": "python",
   "pygments_lexer": "ipython3",
   "version": "3.11.7"
  }
 },
 "nbformat": 4,
 "nbformat_minor": 2
}
