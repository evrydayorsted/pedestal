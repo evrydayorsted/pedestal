{
 "cells": [
  {
   "cell_type": "code",
   "execution_count": 1,
   "metadata": {},
   "outputs": [
    {
     "name": "stdout",
     "output_type": "stream",
     "text": [
      "pedinf connection failed\n",
      "pyuda connection failed\n",
      "Pkl data loaded\n"
     ]
    }
   ],
   "source": [
    "from Shot import *\n",
    "a = Shot(\"allShots\", \"pkl\")"
   ]
  },
  {
   "cell_type": "code",
   "execution_count": 7,
   "metadata": {},
   "outputs": [
    {
     "data": {
      "text/plain": [
       "[<matplotlib.lines.Line2D at 0x11da54e50>]"
      ]
     },
     "execution_count": 7,
     "metadata": {},
     "output_type": "execute_result"
    },
    {
     "data": {
      "image/png": "[encoded data removed]",
      "text/plain": [
       "<Figure size 640x480 with 1 Axes>"
      ]
     },
     "metadata": {},
     "output_type": "display_data"
    }
   ],
   "source": [
    "plt.plot(a.shotByTimeSlice)"
   ]
  },
  {
   "cell_type": "code",
   "execution_count": 38,
   "metadata": {},
   "outputs": [
    {
     "name": "stdout",
     "output_type": "stream",
     "text": [
      "7\n",
      "7\n",
      "Plasma Current data failed\n",
      "Pkl data loaded\n"
     ]
    },
    {
     "ename": "AttributeError",
     "evalue": "'Shot' object has no attribute 'te_ped_location'",
     "output_type": "error",
     "traceback": [
      "\u001b[0;31m---------------------------------------------------------------------------\u001b[0m",
      "\u001b[0;31mAttributeError\u001b[0m                            Traceback (most recent call last)",
      "Cell \u001b[0;32mIn[38], line 11\u001b[0m\n\u001b[1;32m      9\u001b[0m \u001b[38;5;28;01mfor\u001b[39;00m i \u001b[38;5;129;01min\u001b[39;00m highElongShotTimes[\u001b[38;5;241m0\u001b[39m]:\n\u001b[1;32m     10\u001b[0m     b \u001b[38;5;241m=\u001b[39m Shot(i, \u001b[38;5;124m\"\u001b[39m\u001b[38;5;124mpkl\u001b[39m\u001b[38;5;124m\"\u001b[39m)\n\u001b[0;32m---> 11\u001b[0m     \u001b[43mb\u001b[49m\u001b[38;5;241;43m.\u001b[39;49m\u001b[43mfit\u001b[49m\u001b[43m(\u001b[49m\u001b[43mplotVsRadius\u001b[49m\u001b[43m \u001b[49m\u001b[38;5;241;43m=\u001b[39;49m\u001b[43m \u001b[49m\u001b[38;5;28;43;01mTrue\u001b[39;49;00m\u001b[43m,\u001b[49m\u001b[43m \u001b[49m\u001b[43mshowFigure\u001b[49m\u001b[38;5;241;43m=\u001b[39;49m\u001b[38;5;28;43;01mTrue\u001b[39;49;00m\u001b[43m)\u001b[49m\n",
      "File \u001b[0;32m~/Documents/hardDrive/pppl/pedestal/Shot.py:209\u001b[0m, in \u001b[0;36mShot.fit\u001b[0;34m(self, printTimes, plotVsTime, printQuantities, plotVsRadius, plotVsPsiN, savePklForShot, presetTimes, saveFigure, showFigure)\u001b[0m\n\u001b[1;32m    191\u001b[0m     \u001b[38;5;28;01mdef\u001b[39;00m \u001b[38;5;21mfit\u001b[39m(\u001b[38;5;28mself\u001b[39m, printTimes\u001b[38;5;241m=\u001b[39m \u001b[38;5;28;01mFalse\u001b[39;00m, plotVsTime \u001b[38;5;241m=\u001b[39m \u001b[38;5;28;01mFalse\u001b[39;00m, printQuantities \u001b[38;5;241m=\u001b[39m \u001b[38;5;28;01mFalse\u001b[39;00m,\n\u001b[1;32m    192\u001b[0m \t    plotVsRadius \u001b[38;5;241m=\u001b[39m \u001b[38;5;28;01mFalse\u001b[39;00m, plotVsPsiN \u001b[38;5;241m=\u001b[39m \u001b[38;5;28;01mFalse\u001b[39;00m, savePklForShot \u001b[38;5;241m=\u001b[39m \u001b[38;5;28;01mFalse\u001b[39;00m,\n\u001b[1;32m    193\u001b[0m \t    presetTimes\u001b[38;5;241m=\u001b[39m [], saveFigure \u001b[38;5;241m=\u001b[39m \u001b[38;5;28;01mFalse\u001b[39;00m, showFigure \u001b[38;5;241m=\u001b[39m \u001b[38;5;28;01mFalse\u001b[39;00m):\n\u001b[1;32m    194\u001b[0m \u001b[38;5;250m        \u001b[39m\u001b[38;5;124;03m\"\"\"_summary_\u001b[39;00m\n\u001b[1;32m    195\u001b[0m \n\u001b[1;32m    196\u001b[0m \u001b[38;5;124;03m        Args:\u001b[39;00m\n\u001b[0;32m   (...)\u001b[0m\n\u001b[1;32m    206\u001b[0m \u001b[38;5;124;03m       \u001b[39;00m\n\u001b[1;32m    207\u001b[0m \u001b[38;5;124;03m        Adapted from pedestal_fit_parameters Jack Berkery 2023\"\"\"\u001b[39;00m\n\u001b[0;32m--> 209\u001b[0m         te_ped_location \u001b[38;5;241m=\u001b[39m \u001b[38;5;28;43mself\u001b[39;49m\u001b[38;5;241;43m.\u001b[39;49m\u001b[43mte_ped_location\u001b[49m\n\u001b[1;32m    210\u001b[0m         te_ped_height   \u001b[38;5;241m=\u001b[39m \u001b[38;5;28mself\u001b[39m\u001b[38;5;241m.\u001b[39mte_ped_height\n\u001b[1;32m    211\u001b[0m         te_ped_width    \u001b[38;5;241m=\u001b[39m \u001b[38;5;28mself\u001b[39m\u001b[38;5;241m.\u001b[39mte_ped_width\n",
      "\u001b[0;31mAttributeError\u001b[0m: 'Shot' object has no attribute 'te_ped_location'"
     ]
    }
   ],
   "source": [
    "shots = np.array(a.shotByTimeSlice)\n",
    "times = np.array(a.times)\n",
    "index = np.where((np.array(a.elong)>2.8))\n",
    "highElongShotTimes = (shots[index], times[index])\n",
    "print(len(highElongShotTimes[0]))\n",
    "\n",
    "print(len(highElongShotTimes[1]))\n",
    "\n",
    "for i in highElongShotTimes[0]:\n",
    "    b = Shot(i, \"both\")\n",
    "    b.fit(plotVsRadius = True, showFigure=True)"
   ]
  },
  {
   "cell_type": "code",
   "execution_count": null,
   "metadata": {},
   "outputs": [],
   "source": [
    "a.contourPlot(3, countType=\"elong\", cbarMin=1.9, cbarMax=2.1, numMin=10)"
   ]
  },
  {
   "cell_type": "code",
   "execution_count": null,
   "metadata": {},
   "outputs": [],
   "source": [
    "a.contourPlot(2, countType=\"elong\", cbarMin=1.9, cbarMax=2.1, numMin=10)"
   ]
  },
  {
   "cell_type": "code",
   "execution_count": null,
   "metadata": {},
   "outputs": [],
   "source": [
    "a.contourPlot(4, countType=\"elong\", cbarMin=1.9, cbarMax=2.1, numMin=10)"
   ]
  },
  {
   "cell_type": "code",
   "execution_count": null,
   "metadata": {},
   "outputs": [],
   "source": [
    "shot61= Shot(45261, \"all\")\n",
    "shot70= Shot(45270, \"all\")\n",
    "shot72= Shot(45272, \"pkl\")"
   ]
  },
  {
   "cell_type": "code",
   "execution_count": null,
   "metadata": {},
   "outputs": [],
   "source": [
    "shots = [shot61, shot70, shot72]\n",
    "\n",
    "for i in shots:\n",
    "    i.fit(savefigure=True, showfigure=True, plotvsradius=True, plotvspsin=True, presetTimes[])"
   ]
  },
  {
   "cell_type": "code",
   "execution_count": null,
   "metadata": {},
   "outputs": [],
   "source": [
    "a.contourPlot(5)"
   ]
  },
  {
   "cell_type": "code",
   "execution_count": null,
   "metadata": {},
   "outputs": [],
   "source": [
    "def curve(elong, delta, Beta_ped, elongPower, ), ,m):\n",
    "    return  m*x\n",
    "\n",
    "(popt,pcov) = curve_fit(curve, validXQuantity, validYQuantity, p0=(20))\n",
    "# popt now holds the optimized parameters a in popt[0] and b in popt[1]\n",
    "# pcov is the covariance matrix, which gives errors and correlations.\n",
    "# To extract just the errors on the fit parameters as sigmas:\n",
    "popt = np.round(popt, 3)\n",
    "perr = np.round(np.sqrt(np.diag(pcov)), 3)\n",
    "# now perr holds the +- 1sigma error for a and b.\n",
    "# First plot the data with error bars\n",
    "#plt.plot(xquantity, yquantity, \"o\", label=\"data\", color=\"black\")\n",
    "# There are many ways to plot the line given a and b, but here’s one:\n",
    "yfit = curve(x_width, *popt) # * passes a list as remaining function parameters\n",
    "\n",
    "# plots the fit curve\n",
    "plt.plot(x_width, yfit,label=f\"fit - {popt[0]}$\\pm${perr[0]} $\\delta$\", color=\"black\")\n",
    "\n",
    "#Plots the points that were fitted\n",
    "plt.plot(validXQuantity, validYQuantity, \".\", markersize = 0.5, color=\"red\")\n",
    "plt.legend()\n",
    "# savefig(\"hw1_meaningful_file_name.pdf\")"
   ]
  },
  {
   "cell_type": "code",
   "execution_count": null,
   "metadata": {},
   "outputs": [],
   "source": [
    "from Shot import *\n",
    "allShots = Shot(\"allShots\", \"pkl\")"
   ]
  },
  {
   "cell_type": "code",
   "execution_count": null,
   "metadata": {},
   "outputs": [],
   "source": [
    "for i in range(10):\n",
    "    allShots.contourPlot(1, savefigure=False, IpMin=0.1*i)"
   ]
  },
  {
   "cell_type": "code",
   "execution_count": null,
   "metadata": {},
   "outputs": [],
   "source": [
    "\n",
    "# make scatter plot colored by time \n",
    "\n",
    "plt.scatter(x=allShots.W_ped, y=allShots.Beta_ped, c=allShots.Ip[np.argmin(np.abs(allShots.IpTime-allShots.times    ))]/np.max(allShots.Ip), cmap=\"rainbow\", s= 0.6, alpha=0.6) \n",
    "plt.xlim(1, 3)\n",
    "plt.xlabel(r\"Aspect Ratio\")\n",
    "plt.ylabel(r\"$\\delta$\")\n",
    "plt.ylim(0,.75)\n",
    "plt.colorbar(label=\"Time in shot\", orientation=\"horizontal\") \n",
    "plt.savefig(\"allShotsAratioVsDeltaTimeColored.png\")\n",
    "plt.show()"
   ]
  },
  {
   "cell_type": "code",
   "execution_count": null,
   "metadata": {},
   "outputs": [],
   "source": [
    "allShots.times.shape"
   ]
  },
  {
   "cell_type": "code",
   "execution_count": null,
   "metadata": {},
   "outputs": [],
   "source": [
    "# from Shot import *\n",
    "# listMaxes = []\n",
    "# IpAdjusted = []\n",
    "# totalTimes = 0\n",
    "# for i in range(2000):\n",
    "#     value = 47885 + i\n",
    "#     try:\n",
    "#         a = Shot(value, \"pkl\")\n",
    "#         totalTimes +=len(a.times)\n",
    "#         print(np.max(a.Ip))\n",
    "#         localIpAdj=[]\n",
    "#         for k in a.times:\n",
    "#             localIpAdj += [a.Ip[np.argmin(np.abs(a.IpTime-k))]]\n",
    "#         for j in range(len(a.times)):\n",
    "#             listMaxes += [np.max(localIpAdj)]\n",
    "#         IpAdjusted += localIpAdj\n",
    "#     except:\n",
    "#         pass\n",
    "# print(listMaxes)\n",
    "# print(len(listMaxes))\n",
    "# print(IpAdjusted)\n",
    "# print(len(IpAdjusted))\n",
    "from Shot import *\n",
    "shotNums = []\n",
    "totalTimes = 0\n",
    "for i in range(2000):\n",
    "    value = 47885 + i\n",
    "    try:\n",
    "        a = Shot(value, \"pkl\")\n",
    "        totalTimes +=len(a.times)       \n",
    "        for j in range(len(a.times)):\n",
    "            shotNums += [value]\n",
    "    except:\n",
    "        pass\n",
    "print(totalTimes)\n",
    "print(shotNums)\n",
    "print(len(shotNums))\n"
   ]
  },
  {
   "cell_type": "code",
   "execution_count": null,
   "metadata": {},
   "outputs": [],
   "source": [
    "plt.plot(shotNums)"
   ]
  },
  {
   "cell_type": "code",
   "execution_count": null,
   "metadata": {},
   "outputs": [],
   "source": [
    "plt.plot(listMaxes)"
   ]
  },
  {
   "cell_type": "code",
   "execution_count": null,
   "metadata": {},
   "outputs": [],
   "source": [
    "np.ones(10, dtype=float)*2"
   ]
  },
  {
   "cell_type": "code",
   "execution_count": null,
   "metadata": {},
   "outputs": [],
   "source": [
    "filename = 'outputWithPlasmaCurrent/MAST-U_pedestal_allShotsWithoutShotNums.pkl'\n",
    "infile = open(filename, 'rb')\n",
    "pkldata = pickle.load(infile)\n",
    "infile.close()\n",
    "\n",
    "#read off values\n",
    "shot = pkldata['Shot']\n",
    "times = pkldata['Times']\n",
    "W_ped = pkldata['W_ped']\n",
    "Beta_ped = pkldata['Beta_ped']\n",
    "W_ped_psin_te = pkldata['W_ped_psin_te']\n",
    "W_ped_psin_ne = pkldata['W_ped_psin_ne']\n",
    "W_ped_psin_pe = pkldata['W_ped_psin_pe']\n",
    "H_ped_psin_te = pkldata['H_ped_psin_te']\n",
    "H_ped_psin_ne = pkldata['H_ped_psin_ne']\n",
    "H_ped_psin_pe = pkldata['H_ped_psin_pe']\n",
    "W_ped_radius_te = pkldata['W_ped_radius_te']\n",
    "W_ped_radius_ne = pkldata['W_ped_radius_ne']\n",
    "W_ped_radius_pe = pkldata['W_ped_radius_pe']\n",
    "H_ped_radius_te = pkldata['H_ped_radius_te']\n",
    "H_ped_radius_ne = pkldata['H_ped_radius_ne']\n",
    "H_ped_radius_pe = pkldata['H_ped_radius_pe']\n",
    "Aratio = pkldata['Aratio']\n",
    "elong  = pkldata['elong']\n",
    "delta = pkldata['delta']\n",
    "try:\n",
    "    Ip = pkldata['Ip']\n",
    "    IpTime = pkldata['IpTime']\n",
    "    listMaxes = pkldata['IpMax']\n",
    "    IpAdjusted = pkldata['IpTimeAdjusted']\n",
    "    \n",
    "\n",
    "except:\n",
    "    pass\n",
    "print(\"Pkl data loaded\")\n",
    "pkldata = {'Shot': shot, 'Times': times, 'W_ped': W_ped, 'Beta_ped': Beta_ped,\n",
    "                    'W_ped_psin_te': W_ped_psin_te,'W_ped_psin_ne': W_ped_psin_ne,'W_ped_psin_pe': W_ped_psin_pe,\n",
    "                    'H_ped_psin_te': H_ped_psin_te,'H_ped_psin_ne': H_ped_psin_ne,'H_ped_psin_pe': H_ped_psin_pe,\n",
    "                    'W_ped_radius_te': W_ped_radius_te,'W_ped_radius_ne': W_ped_radius_ne,'W_ped_radius_pe': W_ped_radius_pe,\n",
    "                    'H_ped_radius_te': H_ped_radius_te,'H_ped_radius_ne': H_ped_radius_ne,'H_ped_radius_pe': H_ped_radius_pe,\n",
    "                    'Aratio': Aratio, 'elong': elong, 'delta': delta, 'Ip': Ip, 'IpTime': IpTime, \"IpMax\":listMaxes, \"IpTimeAdjusted\": IpAdjusted, 'ShotNum': shotNums}\n",
    "filename = 'outputWithPlasmaCurrent/MAST-U_pedestal_allShots.pkl'\n",
    "outfile = open(filename, 'wb')\n",
    "pickle.dump(pkldata,outfile)\n",
    "outfile.close()\n",
    "\n"
   ]
  },
  {
   "cell_type": "code",
   "execution_count": null,
   "metadata": {},
   "outputs": [],
   "source": [
    "from Shot import *\n",
    "b = Shot(\"allShots\", \"pkl\")"
   ]
  },
  {
   "cell_type": "code",
   "execution_count": null,
   "metadata": {},
   "outputs": [],
   "source": [
    "for i in range(10):\n",
    "    b.contourPlot(1, savefigure=False, IpMin=0.9, LModeFilter=False)"
   ]
  },
  {
   "cell_type": "code",
   "execution_count": null,
   "metadata": {},
   "outputs": [],
   "source": [
    "\n",
    "# make scatter plot colored by time \n",
    "\n",
    "plt.scatter(y=b.delta, x=b.elong, c=np.array(b.IpAdjusted)/np.array(b.IpMax), cmap=\"rainbow\", s= 0.6, alpha=0.6) \n",
    "# plt.xlim(1,3)\n",
    "plt.ylabel(r\"$\\delta$\")\n",
    "plt.xlabel(r\"$\\kappa$\")\n",
    "# plt.ylim(0,1)\n",
    "plt.colorbar(label=\"Fraction of Max Plasma Current\", orientation=\"horizontal\") \n",
    "plt.savefig(\"allShotsElongVsDeltaIpColored.png\")\n",
    "plt.show()"
   ]
  },
  {
   "cell_type": "code",
   "execution_count": null,
   "metadata": {},
   "outputs": [],
   "source": [
    "plt.plot(np.array(b.IpAdjusted)/np.array(b.IpMax))\n",
    "# plt.xlim(0, 1000)"
   ]
  },
  {
   "cell_type": "code",
   "execution_count": null,
   "metadata": {},
   "outputs": [],
   "source": [
    "plt.plot(b.IpMax)\n",
    "plt.xlim(0, 1000)"
   ]
  },
  {
   "cell_type": "code",
   "execution_count": null,
   "metadata": {},
   "outputs": [],
   "source": [
    "b = Shot(\"allShots\", \"pkl\")\n",
    "b.contourPlot(1,IpMin=0.90)"
   ]
  },
  {
   "cell_type": "code",
   "execution_count": null,
   "metadata": {},
   "outputs": [],
   "source": [
    "b.contourPlot(10, IpMin=0, savefigure=False)"
   ]
  },
  {
   "cell_type": "code",
   "execution_count": null,
   "metadata": {},
   "outputs": [],
   "source": [
    "from Shot import *\n",
    "b = Shot(\"allShots\", \"pkl\")\n",
    "b.contourPlot(10, IpMin=0.9, numMin=10, cbarMin=1, cbarMax=3,savefigure=False, LModeFilter=True)"
   ]
  },
  {
   "cell_type": "code",
   "execution_count": null,
   "metadata": {},
   "outputs": [],
   "source": [
    "b.contourPlot(1, savefigure=False)"
   ]
  },
  {
   "cell_type": "code",
   "execution_count": null,
   "metadata": {},
   "outputs": [],
   "source": [
    "from Shot import *\n",
    "a = Shot(\"allShots\", \"pkl\")"
   ]
  },
  {
   "cell_type": "code",
   "execution_count": null,
   "metadata": {},
   "outputs": [],
   "source": [
    "a.contourPlot(2, numMin=10, numPix= 40,LModeFilter=True, countType=\"elong\",cbarMin=1.95, cbarMax=2.1)\n",
    "\n"
   ]
  },
  {
   "cell_type": "code",
   "execution_count": null,
   "metadata": {},
   "outputs": [],
   "source": [
    "print(len(a.zz[:, j]))\n",
    "for j in range(4,16,4):\n",
    "    averaged =[]\n",
    "    errbar = []\n",
    "    for i in range(2, len(a.zz[:, j])-2):\n",
    "        averaged += [np.sum(a.zz[i-2:i+3, j])/5]\n",
    "        errbar += [np.std(a.zz[i-2:i+3, j])]\n",
    "    print(averaged)\n",
    "    # plt.plot(a.zz[:, 17])\n",
    "    plt.errorbar(np.linspace(0, 0.2, len(a.zz[:,j])-4),y=averaged, yerr=errbar, fmt='o', linestyle='-', capsize=4,label=\"Delta=\"+str(np.round(j*0.2/len(a.zz[:,j]), 5)))\n",
    "plt.ylabel(r\"Average $\\kappa$\")\n",
    "plt.xlabel(r\"$T{e, ped}$\")\n",
    "plt.legend()\n",
    "plt.show()\n",
    "# for k in range(0,15,1):\n",
    "    \n",
    "#     plt.plot(np.linspace(0, 0.2, len(a.zz[:,j])),a.zz[:,j], label=\"Delta=\"+str(np.round(j*0.1/15, 2)))\n",
    "# plt.ylabel(r\"Average $\\kappa$\")\n",
    "# plt.xlabel(r\"$\\Delta_{ped, Te}$\")\n",
    "# plt.legend()\n",
    "# plt.show()\n",
    "\n"
   ]
  },
  {
   "cell_type": "code",
   "execution_count": null,
   "metadata": {},
   "outputs": [],
   "source": [
    "j = 5\n",
    "averaged =[]\n",
    "for i in range(2, len(a.zz[:, j])-2):\n",
    "    averaged += [np.sum(a.zz[i-2:i+3, j])/5]\n",
    "\n",
    "\n",
    "# plt.plot(a.zz[:, 17])\n",
    "plt.plot(averaged, label=j)\n",
    "plt.legend()"
   ]
  },
  {
   "cell_type": "code",
   "execution_count": null,
   "metadata": {},
   "outputs": [],
   "source": [
    "for i in range(10):\n",
    "    plt.plot(a.zz[:,int(0.01*i*300)], label=0.01*i)\n",
    "plt.legend()"
   ]
  },
  {
   "cell_type": "code",
   "execution_count": null,
   "metadata": {},
   "outputs": [],
   "source": [
    "a.contourPlot(0, LModeFilter=True, numMin=10, cbarMin = 1, cbarMax =2)"
   ]
  },
  {
   "cell_type": "code",
   "execution_count": null,
   "metadata": {},
   "outputs": [],
   "source": [
    "a.contourPlot(11, LModeFilter=True, numMin=10, cbarMin=1)"
   ]
  },
  {
   "cell_type": "code",
   "execution_count": null,
   "metadata": {},
   "outputs": [],
   "source": [
    "a.contourPlot(8, numPix=40, numMin=10, LModeFilter=True, cbarMin=0.75, cbarMax=3.75,countType=\"pedestalHeight\")"
   ]
  },
  {
   "cell_type": "code",
   "execution_count": null,
   "metadata": {},
   "outputs": [],
   "source": [
    "b = np.array([1.5, 2., 3.])"
   ]
  },
  {
   "cell_type": "code",
   "execution_count": null,
   "metadata": {},
   "outputs": [],
   "source": [
    "c = b.astype(int)"
   ]
  },
  {
   "cell_type": "code",
   "execution_count": null,
   "metadata": {},
   "outputs": [],
   "source": [
    "c"
   ]
  },
  {
   "cell_type": "code",
   "execution_count": null,
   "metadata": {},
   "outputs": [],
   "source": [
    "a.contourPlot(3, numMin=10, LModeFilter=True, countType=\"elong\",cbarMin=1.95, cbarMax=2.1)"
   ]
  },
  {
   "cell_type": "code",
   "execution_count": null,
   "metadata": {},
   "outputs": [],
   "source": [
    "b.contourPlot(0)"
   ]
  },
  {
   "cell_type": "code",
   "execution_count": null,
   "metadata": {},
   "outputs": [],
   "source": [
    "a = Shot(45270, \"all\")"
   ]
  },
  {
   "cell_type": "code",
   "execution_count": null,
   "metadata": {},
   "outputs": [],
   "source": [
    "a.fit()"
   ]
  },
  {
   "cell_type": "code",
   "execution_count": null,
   "metadata": {},
   "outputs": [],
   "source": [
    "from Shot import *\n"
   ]
  },
  {
   "cell_type": "code",
   "execution_count": null,
   "metadata": {},
   "outputs": [],
   "source": [
    "a = Shot()"
   ]
  },
  {
   "cell_type": "code",
   "execution_count": null,
   "metadata": {},
   "outputs": [],
   "source": []
  },
  {
   "cell_type": "code",
   "execution_count": null,
   "metadata": {},
   "outputs": [],
   "source": []
  },
  {
   "cell_type": "code",
   "execution_count": null,
   "metadata": {},
   "outputs": [],
   "source": [
    "from Shot import *\n",
    "a = Shot(\"allShots\", \"pkl\")\n",
    "for i in range(1):\n",
    "    a.contourPlot(2, lowSlopeFilter=True,numPix=40,IpMin=0.9, numMin=10, cbarMin=1.95,cbarMax=2.1, countType=\"elong\")\n"
   ]
  },
  {
   "cell_type": "code",
   "execution_count": null,
   "metadata": {},
   "outputs": [],
   "source": [
    "from Shot import *\n",
    "a = Shot(\"allShots\", \"pkl\")\n",
    "for i in range(1):\n",
    "    a.contourPlot(3, lowSlopeFilter=True,numPix=50,IpMin=0.9, numMin=10, cbarMin=1.95,cbarMax=2.1, countType=\"elong\")\n"
   ]
  },
  {
   "cell_type": "code",
   "execution_count": null,
   "metadata": {},
   "outputs": [],
   "source": [
    "a.contourPlot(10, lowSlopeFilter=True, IpMin=0.9, numMin=10, numPix=50, cbarMin=1,cbarMax=2.5)\n"
   ]
  },
  {
   "cell_type": "code",
   "execution_count": null,
   "metadata": {},
   "outputs": [],
   "source": [
    "a.contourPlot(1, lowSlopeFilter=True,numPix=45,IpMin=0.9, numMin=10, cbarMin=1,cbarMax=1.8)\n",
    "\n",
    "   \n",
    "a.contourPlot(1, lowSlopeFilter=True,numPix=45,IpMin=0.9, numMin=10, cbarMin=0.4,cbarMax=0.6, countType=\"delta\")\n",
    "\n",
    "\n",
    "\n",
    "\n"
   ]
  },
  {
   "cell_type": "code",
   "execution_count": null,
   "metadata": {},
   "outputs": [],
   "source": [
    "a.contourPlot(1, lowSlopeFilter=True,numPix=45,IpMin=0.9, numMin=10, cbarMin=1.95,cbarMax=2.1, countType=\"elong\")\n"
   ]
  },
  {
   "cell_type": "code",
   "execution_count": null,
   "metadata": {},
   "outputs": [],
   "source": [
    "   a.contourPlot(2, lowSlopeFilter=True,numPix=50,IpMin=0.9, numMin=10, cbarMin=0.45,cbarMax=0.55, countType=\"delta\")\n",
    "\n",
    "   a.contourPlot(3, lowSlopeFilter=True,numPix=50,IpMin=0.9, numMin=10, cbarMin=0.45,cbarMax=0.55, countType=\"delta\")\n",
    "\n",
    "\n"
   ]
  },
  {
   "cell_type": "code",
   "execution_count": null,
   "metadata": {},
   "outputs": [],
   "source": []
  },
  {
   "cell_type": "code",
   "execution_count": null,
   "metadata": {},
   "outputs": [],
   "source": [
    "from Shot import *\n",
    "a = Shot(\"allShots\", \"pkl\")"
   ]
  },
  {
   "cell_type": "code",
   "execution_count": null,
   "metadata": {},
   "outputs": [],
   "source": [
    "a.contourPlot(11, cbarMin=.45, cbarMax=.55, countType=\"delta\", numMin=10)"
   ]
  },
  {
   "cell_type": "code",
   "execution_count": null,
   "metadata": {},
   "outputs": [],
   "source": [
    "a.contourPlot(11, cbarMin=1.95, cbarMax=2.1, countType=\"elong\", numMin=10)"
   ]
  },
  {
   "cell_type": "code",
   "execution_count": null,
   "metadata": {},
   "outputs": [],
   "source": [
    "a.contourPlot(11, cbarMin=1)"
   ]
  },
  {
   "cell_type": "code",
   "execution_count": null,
   "metadata": {},
   "outputs": [],
   "source": [
    "a.contourPlot(2, lowSlopeFilter=True,numPix=50,IpMin=0.9, numMin=10, cbarMin=0.45,cbarMax=0.55, countType=\"delta\")\n",
    "\n",
    "a.contourPlot(3, lowSlopeFilter=True,numPix=50,IpMin=0.9, numMin=10, cbarMin=0.45,cbarMax=0.55, countType=\"delta\")\n",
    "\n",
    "\n"
   ]
  },
  {
   "cell_type": "code",
   "execution_count": null,
   "metadata": {},
   "outputs": [],
   "source": [
    "a.contourPlot(1, lowSlopeFilter=True,numPix=45,IpMin=0.9, numMin=10, cbarMin=0.45,cbarMax=0.55, countType=\"delta\")\n"
   ]
  },
  {
   "cell_type": "code",
   "execution_count": null,
   "metadata": {},
   "outputs": [],
   "source": [
    "a.contourPlot(1, lowSlopeFilter=True,numPix=50,IpMin=0.9, numMin=10, cbarMin=0.45,cbarMax=0.55, countType=\"delta\")\n"
   ]
  },
  {
   "cell_type": "code",
   "execution_count": null,
   "metadata": {},
   "outputs": [],
   "source": [
    "a.contourPlot(1, lowSlopeFilter=True,numPix=50,IpMin=0.9, numMin=10, cbarMin=1,cbarMax=2)\n"
   ]
  },
  {
   "cell_type": "code",
   "execution_count": null,
   "metadata": {},
   "outputs": [],
   "source": []
  },
  {
   "cell_type": "code",
   "execution_count": null,
   "metadata": {},
   "outputs": [],
   "source": []
  },
  {
   "cell_type": "code",
   "execution_count": null,
   "metadata": {},
   "outputs": [],
   "source": []
  },
  {
   "cell_type": "code",
   "execution_count": null,
   "metadata": {},
   "outputs": [],
   "source": []
  },
  {
   "cell_type": "code",
   "execution_count": null,
   "metadata": {},
   "outputs": [],
   "source": []
  },
  {
   "cell_type": "code",
   "execution_count": null,
   "metadata": {},
   "outputs": [],
   "source": [
    "a.contourPlot(1, lowSlopeFilter=True,numPix=50,IpMin=0.9, numMin=10, cbarMin=1.95,cbarMax=2.1, countType=\"elong\")\n"
   ]
  },
  {
   "cell_type": "code",
   "execution_count": null,
   "metadata": {},
   "outputs": [],
   "source": []
  },
  {
   "cell_type": "code",
   "execution_count": null,
   "metadata": {},
   "outputs": [],
   "source": []
  },
  {
   "cell_type": "code",
   "execution_count": null,
   "metadata": {},
   "outputs": [],
   "source": []
  }
 ],
 "metadata": {
  "kernelspec": {
   "display_name": "Python 3",
   "language": "python",
   "name": "python3"
  },
  "language_info": {
   "codemirror_mode": {
    "name": "ipython",
    "version": 3
   },
   "file_extension": ".py",
   "mimetype": "text/x-python",
   "name": "python",
   "nbconvert_exporter": "python",
   "pygments_lexer": "ipython3",
   "version": "3.11.7"
  }
 },
 "nbformat": 4,
 "nbformat_minor": 2
}
