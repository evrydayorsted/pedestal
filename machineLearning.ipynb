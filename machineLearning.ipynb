{
 "cells": [
  {
   "cell_type": "code",
   "execution_count": 1,
   "metadata": {},
   "outputs": [
    {
     "ename": "SyntaxError",
     "evalue": "invalid decimal literal (pedestal.py, line 620)",
     "output_type": "error",
     "traceback": [
      "Traceback \u001b[0;36m(most recent call last)\u001b[0m:\n",
      "\u001b[0m  File \u001b[1;32m~/Library/Python/3.11/lib/python/site-packages/IPython/core/interactiveshell.py:3577\u001b[0m in \u001b[1;35mrun_code\u001b[0m\n    exec(code_obj, self.user_global_ns, self.user_ns)\u001b[0m\n",
      "\u001b[0;36m  Cell \u001b[0;32mIn[1], line 29\u001b[0;36m\n\u001b[0;31m    from pedestal import *\u001b[0;36m\n",
      "\u001b[0;36m  File \u001b[0;32m~/Documents/hardDrive/pppl/pedestal/pedestal.py:620\u001b[0;36m\u001b[0m\n\u001b[0;31m    >>>>>>> 42e4f5209ab9382764f50cf149334f503083ebb1\u001b[0m\n\u001b[0m               ^\u001b[0m\n\u001b[0;31mSyntaxError\u001b[0m\u001b[0;31m:\u001b[0m invalid decimal literal\n"
     ]
    }
   ],
   "source": [
    "\"\"\"\n",
    "Adapted from Jason Parisi machine_learning_local_prv.py\n",
    "\"\"\"\n",
    "\n",
    "\n",
    "        \n",
    "from sklearn.preprocessing import StandardScaler, PolynomialFeatures\n",
    "from sklearn.ensemble import RandomForestRegressor\n",
    "from sklearn.inspection import permutation_importance\n",
    "from sklearn.svm import SVR\n",
    "from sklearn.pipeline import make_pipeline\n",
    "from scipy.optimize import curve_fit\n",
    "import pandas as pd\n",
    "from matplotlib.pyplot import cm\n",
    "# import netCDF4 as nc4\n",
    "from scipy.interpolate import interp1d\n",
    "import seaborn as sns\n",
    "from copy import deepcopy\n",
    "from scipy.stats import spearmanr\n",
    "from scipy.integrate import simps\n",
    "import matplotlib.pyplot as plt\n",
    "from scipy.interpolate import griddata\n",
    "from scipy.ndimage import gaussian_filter\n",
    "from pathlib import Path\n",
    "import time as timetime\n",
    "import numpy as np\n",
    "import re\n",
    "import matplotlib.colors as mcolors\n",
    "from pedestal import *"
   ]
  },
  {
   "cell_type": "code",
   "execution_count": null,
   "metadata": {},
   "outputs": [],
   "source": [
    "from scipy.stats import spearmanr\n",
    "\n",
    "def remove_highly_correlated_features_spearman(X, threshold=0.7, corr_type = 'Spearman'):\n",
    "    \"\"\"\n",
    "    Remove features that are highly correlated with other features.\n",
    "\n",
    "    Parameters:\n",
    "    - X: numpy array of shape (n_samples, n_features)\n",
    "    - threshold: correlation threshold for identifying highly correlated features\n",
    "\n",
    "    Returns:\n",
    "    - X_cleaned: numpy array with highly correlated features removed\n",
    "    - removed_features: list of indices of features that were removed\n",
    "    \"\"\"\n",
    "    # Calculate correlation matrix\n",
    "\n",
    "    if corr_type == 'Spearman':\n",
    "        corr_matrix = spearmanr(X)[0]\n",
    "\n",
    "    elif corr_type == 'Pearson':\n",
    "        corr_matrix = np.corrcoef(X, rowvar=False)\n",
    "    \n",
    "    # Select upper triangle of correlation matrix\n",
    "    upper = np.triu(corr_matrix, k=1)\n",
    "\n",
    "    # Find features with correlation greater than the threshold\n",
    "    to_drop = [i for i in range(upper.shape[0]) if any(upper[i, :] > threshold)]\n",
    "\n",
    "    # Drop features\n",
    "    X_cleaned = np.delete(X, to_drop, axis=1)\n",
    "\n",
    "    return X_cleaned, to_drop"
   ]
  },
  {
   "cell_type": "code",
   "execution_count": null,
   "metadata": {},
   "outputs": [],
   "source": [
    "sampleEvery = 1\n",
    "plotName= \"onlyKappaDelta\"\n"
   ]
  },
  {
   "cell_type": "markdown",
   "metadata": {},
   "source": []
  },
  {
   "cell_type": "code",
   "execution_count": null,
   "metadata": {},
   "outputs": [
    {
     "name": "stdout",
     "output_type": "stream",
     "text": [
      "Downloading pkl data... allShots\n",
      "Pkl data loaded\n",
      "\n",
      "\n"
     ]
    }
   ],
   "source": [
    "\n",
    "\n",
    "def remove_highly_correlated_features(X, threshold=0.8):\n",
    "    \"\"\"\n",
    "    Remove features that are highly correlated with other features.\n",
    "    \n",
    "    Parameters:\n",
    "    - X: numpy array of shape (n_samples, n_features)\n",
    "    - threshold: correlation threshold for identifying highly correlated features\n",
    "    \n",
    "    Returns:\n",
    "    - X_cleaned: numpy array with highly correlated features removed\n",
    "    - removed_features: list of indices of features that were removed\n",
    "    \"\"\"\n",
    "    # Calculate correlation matrix\n",
    "    corr_matrix = np.corrcoef(X, rowvar=False)\n",
    "    \n",
    "    # Select upper triangle of correlation matrix\n",
    "    upper = np.triu(corr_matrix, k=1)\n",
    "    \n",
    "    # Find features with correlation greater than the threshold\n",
    "    to_drop = [i for i in range(upper.shape[0]) if any(upper[i, :] > threshold)]\n",
    "    \n",
    "    # Drop features\n",
    "    X_cleaned = np.delete(X, to_drop, axis=1)\n",
    "    \n",
    "    return X_cleaned, to_drop\n",
    "\n",
    "\n",
    "# load pedestal data from pkl file\n",
    "a = Shot(\"allShots\", \"pkl\")\n",
    "\n",
    "\n",
    "######---- begin jfp edits\n",
    "\n",
    "# Create a pipeline with standardization and a non-linear model\n",
    "model = make_pipeline(StandardScaler(),  # Step 2: Generate polynomial features (optional, based on model needs)\n",
    "\tPolynomialFeatures(2), \n",
    "    RandomForestRegressor())  # Step 3: Fit a non-linear regression model\n",
    "\n",
    "#extract pedestal parameters to fit\n",
    "quantities_filtered = []\n",
    "n_quantities = 25\n",
    "\n",
    "# quantities_filtered.append(a.H_ped_psin_ne/1e18)\n",
    "# quantities_filtered.append(a.H_ped_psin_pe)\n",
    "# quantities_filtered.append(a.H_ped_psin_te)\n",
    "# quantities_filtered.append(a.H_ped_radius_ne/1e18)\n",
    "# quantities_filtered.append(a.H_ped_radius_pe)\n",
    "# quantities_filtered.append(a.H_ped_radius_te)\n",
    "# quantities_filtered.append(a.W_ped_psin_ne/1e18)\n",
    "# quantities_filtered.append(a.W_ped_psin_pe)\n",
    "# quantities_filtered.append(a.W_ped_psin_te)\n",
    "# quantities_filtered.append(a.W_ped_radius_ne/1e18)\n",
    "# quantities_filtered.append(a.W_ped_radius_pe)\n",
    "# quantities_filtered.append(a.W_ped_radius_te)\n",
    "# quantities_filtered.append(a.W_ped)\n",
    "quantities_filtered.append(a.Ip)\n",
    "quantities_filtered.append(a.aratio)\n",
    "quantities_filtered.append(a.delta)\n",
    "quantities_filtered.append(a.elong)\n",
    "quantities_filtered.append(np.array(a.beamPower,dtype=float)) # cast to float\n",
    "# quantities_filtered.append(a.betaN)\n",
    "# quantities_filtered.append(a.elmPercent) # NaNs and Infs here\n",
    "# quantities_filtered.append(a.greenwaldFraction) # NaNs and Infs here\n",
    "# quantities_filtered.append(a.shotIndexed)\n",
    "quantities_filtered.append(a.ssNBI)\n",
    "quantities_filtered.append(a.swNBI)\n",
    "# quantities_filtered.append(a.times)\n",
    "\n",
    "X_temp = np.vstack(quantities_filtered).T\n",
    "\n",
    "# Remove highly correlated features\n",
    "# removed_features=[]\n",
    "X_cleaned, removed_features = remove_highly_correlated_features_spearman(X_temp, threshold=0.5)\n",
    "print(\"Removed features indices:\", removed_features)\n",
    "\n",
    "# X_temp = X_cleaned\n",
    "\n",
    "y = a.Beta_ped\n",
    "\n",
    "# e.g. there is a NaN in 42557 due to elmPercent -- see X_temp[42557]\n",
    "\n",
    "# check for any NaN vlalues\n",
    "nan_mask = ~np.isnan(X_temp).any(axis=1)\n",
    "# filter out rows w/ NaN values\n",
    "X_noNan = X_temp[nan_mask]\n",
    "y_noNan = y[nan_mask]\n",
    "\n",
    "# check for any inf vlalues\n",
    "inf_mask = ~np.isinf(X_noNan).any(axis=1)\n",
    "# filter out rows w/ NaN values\n",
    "X = X_noNan[inf_mask]\n",
    "y = y_noNan[inf_mask]\n",
    "\n",
    "\n",
    "#### let's subsample for a quick model training\n",
    "X_sub = X[::sampleEvery]\n",
    "y_sub = y[::sampleEvery]\n",
    "\n",
    "# model.fit(X, y) ## training in ~5 seconds\n",
    "# # Calculate R^2\n",
    "# r2 = model.score(X, y)\n",
    "# print(\"R^2 random forest:\", r2) #\n",
    "\n",
    "\n",
    "\n",
    "\n",
    "# ######---- end jfp edits\n",
    "\n",
    "\n",
    "# #pedestal height is parameter to predict\n",
    "# y = a.Beta_ped\n",
    "\n",
    "# # attempts to fix NaN error\n",
    "# print(X[np.where(np.isinf(X))])\n",
    "# for i in range(len(X)):\n",
    "#     X[i][np.where(np.isnan(X[i]))]=0\n",
    "# y[np.where(np.isnan(y))]=0\n",
    "\n",
    "# print(\"yep\",X[np.where(np.isnan(X))])\n",
    "# X.T[0] =X.T[0]/1e18\n",
    "# print(X)\n",
    "# print(np.where(np.isnan(y)==True))\n",
    "# # for i in range(len(X.T)):\n",
    "# #     z = np.isfinite(X.T[i])\n",
    "# #     print(np.where(z==False))\n",
    "# print(X.shape, y.shape)\n",
    "# print(y)\n",
    "# print(X.dtype)\n",
    "# print(y.dtype)\n",
    "\n",
    "\n",
    "# #fit model\n",
    "# model.fit(X, y)\n",
    "\n"
   ]
  },
  {
   "cell_type": "code",
   "execution_count": null,
   "metadata": {},
   "outputs": [
    {
     "ename": "KeyboardInterrupt",
     "evalue": "",
     "output_type": "error",
     "traceback": [
      "\u001b[0;31m---------------------------------------------------------------------------\u001b[0m",
      "\u001b[0;31mKeyboardInterrupt\u001b[0m                         Traceback (most recent call last)",
      "Cell \u001b[0;32mIn[5], line 1\u001b[0m\n\u001b[0;32m----> 1\u001b[0m \u001b[43mmodel\u001b[49m\u001b[38;5;241;43m.\u001b[39;49m\u001b[43mfit\u001b[49m\u001b[43m(\u001b[49m\u001b[43mX_sub\u001b[49m\u001b[43m,\u001b[49m\u001b[43m \u001b[49m\u001b[43my_sub\u001b[49m\u001b[43m)\u001b[49m \u001b[38;5;66;03m## training in ~5 seconds (4 minutes for ::10)\u001b[39;00m\n\u001b[1;32m      2\u001b[0m \u001b[38;5;66;03m# Calculate R^2\u001b[39;00m\n\u001b[1;32m      3\u001b[0m r2 \u001b[38;5;241m=\u001b[39m model\u001b[38;5;241m.\u001b[39mscore(X_sub, y_sub)\n",
      "File \u001b[0;32m/opt/homebrew/lib/python3.11/site-packages/sklearn/base.py:1473\u001b[0m, in \u001b[0;36m_fit_context.<locals>.decorator.<locals>.wrapper\u001b[0;34m(estimator, *args, **kwargs)\u001b[0m\n\u001b[1;32m   1466\u001b[0m     estimator\u001b[38;5;241m.\u001b[39m_validate_params()\n\u001b[1;32m   1468\u001b[0m \u001b[38;5;28;01mwith\u001b[39;00m config_context(\n\u001b[1;32m   1469\u001b[0m     skip_parameter_validation\u001b[38;5;241m=\u001b[39m(\n\u001b[1;32m   1470\u001b[0m         prefer_skip_nested_validation \u001b[38;5;129;01mor\u001b[39;00m global_skip_validation\n\u001b[1;32m   1471\u001b[0m     )\n\u001b[1;32m   1472\u001b[0m ):\n\u001b[0;32m-> 1473\u001b[0m     \u001b[38;5;28;01mreturn\u001b[39;00m \u001b[43mfit_method\u001b[49m\u001b[43m(\u001b[49m\u001b[43mestimator\u001b[49m\u001b[43m,\u001b[49m\u001b[43m \u001b[49m\u001b[38;5;241;43m*\u001b[39;49m\u001b[43margs\u001b[49m\u001b[43m,\u001b[49m\u001b[43m \u001b[49m\u001b[38;5;241;43m*\u001b[39;49m\u001b[38;5;241;43m*\u001b[39;49m\u001b[43mkwargs\u001b[49m\u001b[43m)\u001b[49m\n",
      "File \u001b[0;32m/opt/homebrew/lib/python3.11/site-packages/sklearn/pipeline.py:473\u001b[0m, in \u001b[0;36mPipeline.fit\u001b[0;34m(self, X, y, **params)\u001b[0m\n\u001b[1;32m    471\u001b[0m     \u001b[38;5;28;01mif\u001b[39;00m \u001b[38;5;28mself\u001b[39m\u001b[38;5;241m.\u001b[39m_final_estimator \u001b[38;5;241m!=\u001b[39m \u001b[38;5;124m\"\u001b[39m\u001b[38;5;124mpassthrough\u001b[39m\u001b[38;5;124m\"\u001b[39m:\n\u001b[1;32m    472\u001b[0m         last_step_params \u001b[38;5;241m=\u001b[39m routed_params[\u001b[38;5;28mself\u001b[39m\u001b[38;5;241m.\u001b[39msteps[\u001b[38;5;241m-\u001b[39m\u001b[38;5;241m1\u001b[39m][\u001b[38;5;241m0\u001b[39m]]\n\u001b[0;32m--> 473\u001b[0m         \u001b[38;5;28;43mself\u001b[39;49m\u001b[38;5;241;43m.\u001b[39;49m\u001b[43m_final_estimator\u001b[49m\u001b[38;5;241;43m.\u001b[39;49m\u001b[43mfit\u001b[49m\u001b[43m(\u001b[49m\u001b[43mXt\u001b[49m\u001b[43m,\u001b[49m\u001b[43m \u001b[49m\u001b[43my\u001b[49m\u001b[43m,\u001b[49m\u001b[43m \u001b[49m\u001b[38;5;241;43m*\u001b[39;49m\u001b[38;5;241;43m*\u001b[39;49m\u001b[43mlast_step_params\u001b[49m\u001b[43m[\u001b[49m\u001b[38;5;124;43m\"\u001b[39;49m\u001b[38;5;124;43mfit\u001b[39;49m\u001b[38;5;124;43m\"\u001b[39;49m\u001b[43m]\u001b[49m\u001b[43m)\u001b[49m\n\u001b[1;32m    475\u001b[0m \u001b[38;5;28;01mreturn\u001b[39;00m \u001b[38;5;28mself\u001b[39m\n",
      "File \u001b[0;32m/opt/homebrew/lib/python3.11/site-packages/sklearn/base.py:1473\u001b[0m, in \u001b[0;36m_fit_context.<locals>.decorator.<locals>.wrapper\u001b[0;34m(estimator, *args, **kwargs)\u001b[0m\n\u001b[1;32m   1466\u001b[0m     estimator\u001b[38;5;241m.\u001b[39m_validate_params()\n\u001b[1;32m   1468\u001b[0m \u001b[38;5;28;01mwith\u001b[39;00m config_context(\n\u001b[1;32m   1469\u001b[0m     skip_parameter_validation\u001b[38;5;241m=\u001b[39m(\n\u001b[1;32m   1470\u001b[0m         prefer_skip_nested_validation \u001b[38;5;129;01mor\u001b[39;00m global_skip_validation\n\u001b[1;32m   1471\u001b[0m     )\n\u001b[1;32m   1472\u001b[0m ):\n\u001b[0;32m-> 1473\u001b[0m     \u001b[38;5;28;01mreturn\u001b[39;00m \u001b[43mfit_method\u001b[49m\u001b[43m(\u001b[49m\u001b[43mestimator\u001b[49m\u001b[43m,\u001b[49m\u001b[43m \u001b[49m\u001b[38;5;241;43m*\u001b[39;49m\u001b[43margs\u001b[49m\u001b[43m,\u001b[49m\u001b[43m \u001b[49m\u001b[38;5;241;43m*\u001b[39;49m\u001b[38;5;241;43m*\u001b[39;49m\u001b[43mkwargs\u001b[49m\u001b[43m)\u001b[49m\n",
      "File \u001b[0;32m/opt/homebrew/lib/python3.11/site-packages/sklearn/ensemble/_forest.py:489\u001b[0m, in \u001b[0;36mBaseForest.fit\u001b[0;34m(self, X, y, sample_weight)\u001b[0m\n\u001b[1;32m    478\u001b[0m trees \u001b[38;5;241m=\u001b[39m [\n\u001b[1;32m    479\u001b[0m     \u001b[38;5;28mself\u001b[39m\u001b[38;5;241m.\u001b[39m_make_estimator(append\u001b[38;5;241m=\u001b[39m\u001b[38;5;28;01mFalse\u001b[39;00m, random_state\u001b[38;5;241m=\u001b[39mrandom_state)\n\u001b[1;32m    480\u001b[0m     \u001b[38;5;28;01mfor\u001b[39;00m i \u001b[38;5;129;01min\u001b[39;00m \u001b[38;5;28mrange\u001b[39m(n_more_estimators)\n\u001b[1;32m    481\u001b[0m ]\n\u001b[1;32m    483\u001b[0m \u001b[38;5;66;03m# Parallel loop: we prefer the threading backend as the Cython code\u001b[39;00m\n\u001b[1;32m    484\u001b[0m \u001b[38;5;66;03m# for fitting the trees is internally releasing the Python GIL\u001b[39;00m\n\u001b[1;32m    485\u001b[0m \u001b[38;5;66;03m# making threading more efficient than multiprocessing in\u001b[39;00m\n\u001b[1;32m    486\u001b[0m \u001b[38;5;66;03m# that case. However, for joblib 0.12+ we respect any\u001b[39;00m\n\u001b[1;32m    487\u001b[0m \u001b[38;5;66;03m# parallel_backend contexts set at a higher level,\u001b[39;00m\n\u001b[1;32m    488\u001b[0m \u001b[38;5;66;03m# since correctness does not rely on using threads.\u001b[39;00m\n\u001b[0;32m--> 489\u001b[0m trees \u001b[38;5;241m=\u001b[39m \u001b[43mParallel\u001b[49m\u001b[43m(\u001b[49m\n\u001b[1;32m    490\u001b[0m \u001b[43m    \u001b[49m\u001b[43mn_jobs\u001b[49m\u001b[38;5;241;43m=\u001b[39;49m\u001b[38;5;28;43mself\u001b[39;49m\u001b[38;5;241;43m.\u001b[39;49m\u001b[43mn_jobs\u001b[49m\u001b[43m,\u001b[49m\n\u001b[1;32m    491\u001b[0m \u001b[43m    \u001b[49m\u001b[43mverbose\u001b[49m\u001b[38;5;241;43m=\u001b[39;49m\u001b[38;5;28;43mself\u001b[39;49m\u001b[38;5;241;43m.\u001b[39;49m\u001b[43mverbose\u001b[49m\u001b[43m,\u001b[49m\n\u001b[1;32m    492\u001b[0m \u001b[43m    \u001b[49m\u001b[43mprefer\u001b[49m\u001b[38;5;241;43m=\u001b[39;49m\u001b[38;5;124;43m\"\u001b[39;49m\u001b[38;5;124;43mthreads\u001b[39;49m\u001b[38;5;124;43m\"\u001b[39;49m\u001b[43m,\u001b[49m\n\u001b[1;32m    493\u001b[0m \u001b[43m\u001b[49m\u001b[43m)\u001b[49m\u001b[43m(\u001b[49m\n\u001b[1;32m    494\u001b[0m \u001b[43m    \u001b[49m\u001b[43mdelayed\u001b[49m\u001b[43m(\u001b[49m\u001b[43m_parallel_build_trees\u001b[49m\u001b[43m)\u001b[49m\u001b[43m(\u001b[49m\n\u001b[1;32m    495\u001b[0m \u001b[43m        \u001b[49m\u001b[43mt\u001b[49m\u001b[43m,\u001b[49m\n\u001b[1;32m    496\u001b[0m \u001b[43m        \u001b[49m\u001b[38;5;28;43mself\u001b[39;49m\u001b[38;5;241;43m.\u001b[39;49m\u001b[43mbootstrap\u001b[49m\u001b[43m,\u001b[49m\n\u001b[1;32m    497\u001b[0m \u001b[43m        \u001b[49m\u001b[43mX\u001b[49m\u001b[43m,\u001b[49m\n\u001b[1;32m    498\u001b[0m \u001b[43m        \u001b[49m\u001b[43my\u001b[49m\u001b[43m,\u001b[49m\n\u001b[1;32m    499\u001b[0m \u001b[43m        \u001b[49m\u001b[43msample_weight\u001b[49m\u001b[43m,\u001b[49m\n\u001b[1;32m    500\u001b[0m \u001b[43m        \u001b[49m\u001b[43mi\u001b[49m\u001b[43m,\u001b[49m\n\u001b[1;32m    501\u001b[0m \u001b[43m        \u001b[49m\u001b[38;5;28;43mlen\u001b[39;49m\u001b[43m(\u001b[49m\u001b[43mtrees\u001b[49m\u001b[43m)\u001b[49m\u001b[43m,\u001b[49m\n\u001b[1;32m    502\u001b[0m \u001b[43m        \u001b[49m\u001b[43mverbose\u001b[49m\u001b[38;5;241;43m=\u001b[39;49m\u001b[38;5;28;43mself\u001b[39;49m\u001b[38;5;241;43m.\u001b[39;49m\u001b[43mverbose\u001b[49m\u001b[43m,\u001b[49m\n\u001b[1;32m    503\u001b[0m \u001b[43m        \u001b[49m\u001b[43mclass_weight\u001b[49m\u001b[38;5;241;43m=\u001b[39;49m\u001b[38;5;28;43mself\u001b[39;49m\u001b[38;5;241;43m.\u001b[39;49m\u001b[43mclass_weight\u001b[49m\u001b[43m,\u001b[49m\n\u001b[1;32m    504\u001b[0m \u001b[43m        \u001b[49m\u001b[43mn_samples_bootstrap\u001b[49m\u001b[38;5;241;43m=\u001b[39;49m\u001b[43mn_samples_bootstrap\u001b[49m\u001b[43m,\u001b[49m\n\u001b[1;32m    505\u001b[0m \u001b[43m        \u001b[49m\u001b[43mmissing_values_in_feature_mask\u001b[49m\u001b[38;5;241;43m=\u001b[39;49m\u001b[43mmissing_values_in_feature_mask\u001b[49m\u001b[43m,\u001b[49m\n\u001b[1;32m    506\u001b[0m \u001b[43m    \u001b[49m\u001b[43m)\u001b[49m\n\u001b[1;32m    507\u001b[0m \u001b[43m    \u001b[49m\u001b[38;5;28;43;01mfor\u001b[39;49;00m\u001b[43m \u001b[49m\u001b[43mi\u001b[49m\u001b[43m,\u001b[49m\u001b[43m \u001b[49m\u001b[43mt\u001b[49m\u001b[43m \u001b[49m\u001b[38;5;129;43;01min\u001b[39;49;00m\u001b[43m \u001b[49m\u001b[38;5;28;43menumerate\u001b[39;49m\u001b[43m(\u001b[49m\u001b[43mtrees\u001b[49m\u001b[43m)\u001b[49m\n\u001b[1;32m    508\u001b[0m \u001b[43m\u001b[49m\u001b[43m)\u001b[49m\n\u001b[1;32m    510\u001b[0m \u001b[38;5;66;03m# Collect newly grown trees\u001b[39;00m\n\u001b[1;32m    511\u001b[0m \u001b[38;5;28mself\u001b[39m\u001b[38;5;241m.\u001b[39mestimators_\u001b[38;5;241m.\u001b[39mextend(trees)\n",
      "File \u001b[0;32m/opt/homebrew/lib/python3.11/site-packages/sklearn/utils/parallel.py:74\u001b[0m, in \u001b[0;36mParallel.__call__\u001b[0;34m(self, iterable)\u001b[0m\n\u001b[1;32m     69\u001b[0m config \u001b[38;5;241m=\u001b[39m get_config()\n\u001b[1;32m     70\u001b[0m iterable_with_config \u001b[38;5;241m=\u001b[39m (\n\u001b[1;32m     71\u001b[0m     (_with_config(delayed_func, config), args, kwargs)\n\u001b[1;32m     72\u001b[0m     \u001b[38;5;28;01mfor\u001b[39;00m delayed_func, args, kwargs \u001b[38;5;129;01min\u001b[39;00m iterable\n\u001b[1;32m     73\u001b[0m )\n\u001b[0;32m---> 74\u001b[0m \u001b[38;5;28;01mreturn\u001b[39;00m \u001b[38;5;28;43msuper\u001b[39;49m\u001b[43m(\u001b[49m\u001b[43m)\u001b[49m\u001b[38;5;241;43m.\u001b[39;49m\u001b[38;5;21;43m__call__\u001b[39;49m\u001b[43m(\u001b[49m\u001b[43miterable_with_config\u001b[49m\u001b[43m)\u001b[49m\n",
      "File \u001b[0;32m/opt/homebrew/lib/python3.11/site-packages/joblib/parallel.py:1918\u001b[0m, in \u001b[0;36mParallel.__call__\u001b[0;34m(self, iterable)\u001b[0m\n\u001b[1;32m   1916\u001b[0m     output \u001b[38;5;241m=\u001b[39m \u001b[38;5;28mself\u001b[39m\u001b[38;5;241m.\u001b[39m_get_sequential_output(iterable)\n\u001b[1;32m   1917\u001b[0m     \u001b[38;5;28mnext\u001b[39m(output)\n\u001b[0;32m-> 1918\u001b[0m     \u001b[38;5;28;01mreturn\u001b[39;00m output \u001b[38;5;28;01mif\u001b[39;00m \u001b[38;5;28mself\u001b[39m\u001b[38;5;241m.\u001b[39mreturn_generator \u001b[38;5;28;01melse\u001b[39;00m \u001b[38;5;28;43mlist\u001b[39;49m\u001b[43m(\u001b[49m\u001b[43moutput\u001b[49m\u001b[43m)\u001b[49m\n\u001b[1;32m   1920\u001b[0m \u001b[38;5;66;03m# Let's create an ID that uniquely identifies the current call. If the\u001b[39;00m\n\u001b[1;32m   1921\u001b[0m \u001b[38;5;66;03m# call is interrupted early and that the same instance is immediately\u001b[39;00m\n\u001b[1;32m   1922\u001b[0m \u001b[38;5;66;03m# re-used, this id will be used to prevent workers that were\u001b[39;00m\n\u001b[1;32m   1923\u001b[0m \u001b[38;5;66;03m# concurrently finalizing a task from the previous call to run the\u001b[39;00m\n\u001b[1;32m   1924\u001b[0m \u001b[38;5;66;03m# callback.\u001b[39;00m\n\u001b[1;32m   1925\u001b[0m \u001b[38;5;28;01mwith\u001b[39;00m \u001b[38;5;28mself\u001b[39m\u001b[38;5;241m.\u001b[39m_lock:\n",
      "File \u001b[0;32m/opt/homebrew/lib/python3.11/site-packages/joblib/parallel.py:1847\u001b[0m, in \u001b[0;36mParallel._get_sequential_output\u001b[0;34m(self, iterable)\u001b[0m\n\u001b[1;32m   1845\u001b[0m \u001b[38;5;28mself\u001b[39m\u001b[38;5;241m.\u001b[39mn_dispatched_batches \u001b[38;5;241m+\u001b[39m\u001b[38;5;241m=\u001b[39m \u001b[38;5;241m1\u001b[39m\n\u001b[1;32m   1846\u001b[0m \u001b[38;5;28mself\u001b[39m\u001b[38;5;241m.\u001b[39mn_dispatched_tasks \u001b[38;5;241m+\u001b[39m\u001b[38;5;241m=\u001b[39m \u001b[38;5;241m1\u001b[39m\n\u001b[0;32m-> 1847\u001b[0m res \u001b[38;5;241m=\u001b[39m \u001b[43mfunc\u001b[49m\u001b[43m(\u001b[49m\u001b[38;5;241;43m*\u001b[39;49m\u001b[43margs\u001b[49m\u001b[43m,\u001b[49m\u001b[43m \u001b[49m\u001b[38;5;241;43m*\u001b[39;49m\u001b[38;5;241;43m*\u001b[39;49m\u001b[43mkwargs\u001b[49m\u001b[43m)\u001b[49m\n\u001b[1;32m   1848\u001b[0m \u001b[38;5;28mself\u001b[39m\u001b[38;5;241m.\u001b[39mn_completed_tasks \u001b[38;5;241m+\u001b[39m\u001b[38;5;241m=\u001b[39m \u001b[38;5;241m1\u001b[39m\n\u001b[1;32m   1849\u001b[0m \u001b[38;5;28mself\u001b[39m\u001b[38;5;241m.\u001b[39mprint_progress()\n",
      "File \u001b[0;32m/opt/homebrew/lib/python3.11/site-packages/sklearn/utils/parallel.py:136\u001b[0m, in \u001b[0;36m_FuncWrapper.__call__\u001b[0;34m(self, *args, **kwargs)\u001b[0m\n\u001b[1;32m    134\u001b[0m     config \u001b[38;5;241m=\u001b[39m {}\n\u001b[1;32m    135\u001b[0m \u001b[38;5;28;01mwith\u001b[39;00m config_context(\u001b[38;5;241m*\u001b[39m\u001b[38;5;241m*\u001b[39mconfig):\n\u001b[0;32m--> 136\u001b[0m     \u001b[38;5;28;01mreturn\u001b[39;00m \u001b[38;5;28;43mself\u001b[39;49m\u001b[38;5;241;43m.\u001b[39;49m\u001b[43mfunction\u001b[49m\u001b[43m(\u001b[49m\u001b[38;5;241;43m*\u001b[39;49m\u001b[43margs\u001b[49m\u001b[43m,\u001b[49m\u001b[43m \u001b[49m\u001b[38;5;241;43m*\u001b[39;49m\u001b[38;5;241;43m*\u001b[39;49m\u001b[43mkwargs\u001b[49m\u001b[43m)\u001b[49m\n",
      "File \u001b[0;32m/opt/homebrew/lib/python3.11/site-packages/sklearn/ensemble/_forest.py:192\u001b[0m, in \u001b[0;36m_parallel_build_trees\u001b[0;34m(tree, bootstrap, X, y, sample_weight, tree_idx, n_trees, verbose, class_weight, n_samples_bootstrap, missing_values_in_feature_mask)\u001b[0m\n\u001b[1;32m    189\u001b[0m     \u001b[38;5;28;01melif\u001b[39;00m class_weight \u001b[38;5;241m==\u001b[39m \u001b[38;5;124m\"\u001b[39m\u001b[38;5;124mbalanced_subsample\u001b[39m\u001b[38;5;124m\"\u001b[39m:\n\u001b[1;32m    190\u001b[0m         curr_sample_weight \u001b[38;5;241m*\u001b[39m\u001b[38;5;241m=\u001b[39m compute_sample_weight(\u001b[38;5;124m\"\u001b[39m\u001b[38;5;124mbalanced\u001b[39m\u001b[38;5;124m\"\u001b[39m, y, indices\u001b[38;5;241m=\u001b[39mindices)\n\u001b[0;32m--> 192\u001b[0m     \u001b[43mtree\u001b[49m\u001b[38;5;241;43m.\u001b[39;49m\u001b[43m_fit\u001b[49m\u001b[43m(\u001b[49m\n\u001b[1;32m    193\u001b[0m \u001b[43m        \u001b[49m\u001b[43mX\u001b[49m\u001b[43m,\u001b[49m\n\u001b[1;32m    194\u001b[0m \u001b[43m        \u001b[49m\u001b[43my\u001b[49m\u001b[43m,\u001b[49m\n\u001b[1;32m    195\u001b[0m \u001b[43m        \u001b[49m\u001b[43msample_weight\u001b[49m\u001b[38;5;241;43m=\u001b[39;49m\u001b[43mcurr_sample_weight\u001b[49m\u001b[43m,\u001b[49m\n\u001b[1;32m    196\u001b[0m \u001b[43m        \u001b[49m\u001b[43mcheck_input\u001b[49m\u001b[38;5;241;43m=\u001b[39;49m\u001b[38;5;28;43;01mFalse\u001b[39;49;00m\u001b[43m,\u001b[49m\n\u001b[1;32m    197\u001b[0m \u001b[43m        \u001b[49m\u001b[43mmissing_values_in_feature_mask\u001b[49m\u001b[38;5;241;43m=\u001b[39;49m\u001b[43mmissing_values_in_feature_mask\u001b[49m\u001b[43m,\u001b[49m\n\u001b[1;32m    198\u001b[0m \u001b[43m    \u001b[49m\u001b[43m)\u001b[49m\n\u001b[1;32m    199\u001b[0m \u001b[38;5;28;01melse\u001b[39;00m:\n\u001b[1;32m    200\u001b[0m     tree\u001b[38;5;241m.\u001b[39m_fit(\n\u001b[1;32m    201\u001b[0m         X,\n\u001b[1;32m    202\u001b[0m         y,\n\u001b[0;32m   (...)\u001b[0m\n\u001b[1;32m    205\u001b[0m         missing_values_in_feature_mask\u001b[38;5;241m=\u001b[39mmissing_values_in_feature_mask,\n\u001b[1;32m    206\u001b[0m     )\n",
      "File \u001b[0;32m/opt/homebrew/lib/python3.11/site-packages/sklearn/tree/_classes.py:472\u001b[0m, in \u001b[0;36mBaseDecisionTree._fit\u001b[0;34m(self, X, y, sample_weight, check_input, missing_values_in_feature_mask)\u001b[0m\n\u001b[1;32m    461\u001b[0m \u001b[38;5;28;01melse\u001b[39;00m:\n\u001b[1;32m    462\u001b[0m     builder \u001b[38;5;241m=\u001b[39m BestFirstTreeBuilder(\n\u001b[1;32m    463\u001b[0m         splitter,\n\u001b[1;32m    464\u001b[0m         min_samples_split,\n\u001b[0;32m   (...)\u001b[0m\n\u001b[1;32m    469\u001b[0m         \u001b[38;5;28mself\u001b[39m\u001b[38;5;241m.\u001b[39mmin_impurity_decrease,\n\u001b[1;32m    470\u001b[0m     )\n\u001b[0;32m--> 472\u001b[0m \u001b[43mbuilder\u001b[49m\u001b[38;5;241;43m.\u001b[39;49m\u001b[43mbuild\u001b[49m\u001b[43m(\u001b[49m\u001b[38;5;28;43mself\u001b[39;49m\u001b[38;5;241;43m.\u001b[39;49m\u001b[43mtree_\u001b[49m\u001b[43m,\u001b[49m\u001b[43m \u001b[49m\u001b[43mX\u001b[49m\u001b[43m,\u001b[49m\u001b[43m \u001b[49m\u001b[43my\u001b[49m\u001b[43m,\u001b[49m\u001b[43m \u001b[49m\u001b[43msample_weight\u001b[49m\u001b[43m,\u001b[49m\u001b[43m \u001b[49m\u001b[43mmissing_values_in_feature_mask\u001b[49m\u001b[43m)\u001b[49m\n\u001b[1;32m    474\u001b[0m \u001b[38;5;28;01mif\u001b[39;00m \u001b[38;5;28mself\u001b[39m\u001b[38;5;241m.\u001b[39mn_outputs_ \u001b[38;5;241m==\u001b[39m \u001b[38;5;241m1\u001b[39m \u001b[38;5;129;01mand\u001b[39;00m is_classifier(\u001b[38;5;28mself\u001b[39m):\n\u001b[1;32m    475\u001b[0m     \u001b[38;5;28mself\u001b[39m\u001b[38;5;241m.\u001b[39mn_classes_ \u001b[38;5;241m=\u001b[39m \u001b[38;5;28mself\u001b[39m\u001b[38;5;241m.\u001b[39mn_classes_[\u001b[38;5;241m0\u001b[39m]\n",
      "\u001b[0;31mKeyboardInterrupt\u001b[0m: "
     ]
    }
   ],
   "source": [
    "model.fit(X_sub, y_sub) ## training in ~5 seconds (4 minutes for ::10)\n",
    "# Calculate R^2\n",
    "r2 = model.score(X_sub, y_sub)\n",
    "print(\"R^2 random forest:\", r2) #\n"
   ]
  },
  {
   "cell_type": "code",
   "execution_count": null,
   "metadata": {},
   "outputs": [],
   "source": []
  },
  {
   "cell_type": "code",
   "execution_count": null,
   "metadata": {},
   "outputs": [],
   "source": [
    "# # Here you can replace pickle with joblib or cloudpickle\n",
    "# from pickle import dump\n",
    "# # with open(\"machineLearning\"+plotName+\"SampleEvery\"+str(sampleEvery)+\".pkl\", \"wb\") as f:\n",
    "# with open(\"machineLearningexperimentalOnlySampleEvery1.pkl\", \"wb\") as f:\n",
    "#     dump(model, f, protocol=5) "
   ]
  },
  {
   "cell_type": "code",
   "execution_count": null,
   "metadata": {},
   "outputs": [],
   "source": [
    "# # Here you can replace pickle with joblib or cloudpickle\n",
    "# from pickle import load\n",
    "# with open(\"machineLearningNoHeightCleanedSampleEvery\"+str(sampleEvery)+\".pkl\", \"rb\") as f:\n",
    "#     model = load(f)"
   ]
  },
  {
   "cell_type": "code",
   "execution_count": null,
   "metadata": {},
   "outputs": [],
   "source": []
  },
  {
   "cell_type": "code",
   "execution_count": null,
   "metadata": {},
   "outputs": [
    {
     "name": "stdout",
     "output_type": "stream",
     "text": [
      "Feature importances (sorted):\n",
      "Feature: x1^2, Importance: 0.45261818847298046\n",
      "Feature: x1, Importance: 0.2884862144717251\n",
      "Feature: x0 x1, Importance: 0.10563502886227853\n",
      "Feature: x0, Importance: 0.08029499983235769\n",
      "Feature: x0^2, Importance: 0.07296556836065829\n",
      "Feature: 1, Importance: 0.0\n"
     ]
    },
    {
     "data": {
      "image/png": "[encoded data removed]",
      "text/plain": [
       "<Figure size 1000x600 with 1 Axes>"
      ]
     },
     "metadata": {},
     "output_type": "display_data"
    },
    {
     "data": {
      "text/plain": [
       "<Figure size 640x480 with 0 Axes>"
      ]
     },
     "metadata": {},
     "output_type": "display_data"
    }
   ],
   "source": [
    "\n",
    "#### FEATURE IMPORTANCE\n",
    "\n",
    "# Get the RandomForestRegressor from the pipeline\n",
    "rf_model = model.named_steps['randomforestregressor']\n",
    "\n",
    "# Feature importances\n",
    "feature_importances = rf_model.feature_importances_\n",
    "\n",
    "# Feature names\n",
    "poly_feature_names = model.named_steps['polynomialfeatures'].get_feature_names_out()\n",
    "feature_importance_dict = dict(zip(poly_feature_names, feature_importances))\n",
    "\n",
    "# Sort features by importance\n",
    "sorted_features = sorted(feature_importance_dict.items(), key=lambda item: item[1], reverse=True)\n",
    "\n",
    "# Print sorted features with importances\n",
    "print(\"Feature importances (sorted):\")\n",
    "for name, importance in sorted_features:\n",
    "        print(f\"Feature: {name}, Importance: {importance}\")\n",
    "\n",
    "# Sort features by importance\n",
    "sorted_features = sorted(feature_importance_dict.items(), key=lambda item: item[1], reverse=True)\n",
    "feature_names_sorted = [item[0] for item in sorted_features]\n",
    "importances_sorted = [item[1] for item in sorted_features]\n",
    "\n",
    "\n",
    "#pedQuants = [r'$\\langle | \\nabla_N \\alpha |^2 \\rangle$',r'$\\langle \\nabla_N \\alpha \\cdot \\nabla_N q \\rangle$',r'$\\langle | \\nabla_N q |^2 \\rangle$',r'$\\langle \\omega_{\\kappa}^{\\alpha} \\rangle$',r'$\\langle \\omega_{\\kappa}^{\\alpha}-\\omega_{\\nabla B}^{\\alpha} \\rangle$',r'$\\langle \\omega_{\\kappa}^{q} \\rangle$',r'$\\langle \\mathrm{B} \\rangle$', r'$\\langle \\hat{b} \\cdot \\nabla_N \\theta \\rangle$']\n",
    "# pedQuants = [r'$H_{\\psi_n}^{n_e}$', r'$H_{\\psi_n}^{p_e}$', r'$H_{\\psi_n}^{t_e}$', r'$H_{r}^{n_e}$', r'$H_{r}^{p_e}$', r'$H_{r}^{t_e}$', r'$W_{\\psi_n}^{n_e}$', r'$W_{\\psi_n}^{p_e}$', r'$W_{\\psi_n}^{t_e}$', r'$W_{r}^{n_e}$', r'$W_{r}^{p_e}$', r'$W_{r}^{t_e}$', r'$\\Delta_{ped}$',  r'$I_p$',r'$a$', r'$\\delta$', r'$\\kappa$', r'$NBI$', r'$\\beta_N$', r'ELM%', r'greenwald', r'shot#', r'ssNBI', r'swNBI', r'times']\n",
    "# no height\n",
    "# pedQuants = [r'$W_{\\psi_n}^{n_e}$', r'$W_{\\psi_n}^{p_e}$', r'$W_{\\psi_n}^{t_e}$', r'$W_{r}^{n_e}$', r'$W_{r}^{p_e}$', r'$W_{r}^{t_e}$', r'$\\Delta_{ped}$',  r'$I_p$',r'$a$', r'$\\delta$', r'$\\kappa$', r'$NBI$', r'$\\beta_N$', r'ELM%', r'greenwald', r'shot#', r'ssNBI', r'swNBI', r'times']\n",
    "pedQuants = [r'$I_p$',r'$a$', r'$\\delta$', r'$\\kappa$', r'$NBI$',   r'ssNBI', r'swNBI']\n",
    "# pedQuants = [r'$I_p$',r'$\\delta$', r'$\\kappa$']\n",
    "newPedQuants = []\n",
    "for i in np.arange(len(pedQuants)):\n",
    "        if i not in removed_features:\n",
    "                newPedQuants.append(pedQuants[i])\n",
    "pedQuants = newPedQuants\n",
    "# Mapping feature names to geo_quants\n",
    "variable_mapping = {f'x{i}': name for i, name in enumerate(pedQuants)}\n",
    "# Function to replace variables in composite names\n",
    "def replace_feature_names(feature_name, mapping):\n",
    "        pattern = re.compile(r'x\\d+')\n",
    "        return pattern.sub(lambda x: mapping[x.group()], feature_name)\n",
    "# Replacing feature names with the actual variable names\n",
    "feature_names_latex = [replace_feature_names(name, variable_mapping) for name in feature_names_sorted]\n",
    "\n",
    "# Plot feature importances --- pick only top 7 variables!\n",
    "top_filter = 7\n",
    "plt.figure(figsize=(10, 6))\n",
    "plt.barh(feature_names_latex[:top_filter], importances_sorted[:top_filter], color='b', align='center')\n",
    "# ~ plt.barh(feature_names_sorted[:top_filter], importances_sorted[:top_filter], color='b', align='center')\n",
    "# ~ plt.barh(feature_names_sorted[-top_filter:], importances_sorted[-top_filter:], color='b', align='center')\n",
    "plt.xlabel('Importance')\n",
    "plt.ylabel('Feature')\n",
    "plt.title(r'Feature Importances in Random Forest Model For $\\delta \\beta_{\\theta,\\mathrm{ped}}$')\n",
    "plt.gca().invert_yaxis()\n",
    "plt.show()\n",
    "plt.savefig(\"plots/feature_importance_\"+plotName+\"_sampleEvery\"+str(sampleEvery)+\".png\",bbox_inches='tight', pad_inches=0.1)\n",
    "\n",
    "\n"
   ]
  },
  {
   "cell_type": "code",
   "execution_count": null,
   "metadata": {},
   "outputs": [],
   "source": [
    "\n",
    "#### PERMUTATION IMPORTANCE\n",
    "\n",
    "# degree = 2\n",
    "\n",
    "# # Create a pipeline with standardization, polynomial features, and Random Forest\n",
    "# model = make_pipeline(StandardScaler(), PolynomialFeatures(degree), RandomForestRegressor())\n",
    "\n",
    "# # Fit the model\n",
    "# model.fit(X, y)\n",
    "\n",
    "# # Calculate R^2\n",
    "# r2 = model.score(X, y)\n",
    "# print(\"R^2:\", r2)\n",
    "\n",
    "# Compute permutation importance\n",
    "# result = permutation_importance(model, X, y, n_repeats=10, random_state=42, scoring='r2')\n",
    "result = permutation_importance(model, X_sub, y_sub, n_repeats=10, random_state=42, scoring='r2')\n",
    "\n",
    "# Get feature names\n",
    "poly_feature_names = model.named_steps['polynomialfeatures'].get_feature_names_out()\n",
    "\n",
    "# Exclude the constant term '1'\n",
    "important_features = [name for name in poly_feature_names if name != '1']\n",
    "\n",
    "# Get the permutation importance results\n",
    "importances_mean = result.importances_mean\n",
    "importances_std = result.importances_std\n",
    "\n",
    "# Create a sorted list of features based on importance\n",
    "sorted_idx = importances_mean.argsort()\n",
    "\n"
   ]
  },
  {
   "cell_type": "code",
   "execution_count": null,
   "metadata": {},
   "outputs": [
    {
     "data": {
      "image/png": "[encoded data removed]",
      "text/plain": [
       "<Figure size 1000x600 with 1 Axes>"
      ]
     },
     "metadata": {},
     "output_type": "display_data"
    },
    {
     "name": "stdout",
     "output_type": "stream",
     "text": [
      "[8.08491708e-06 1.28001320e+00]\n"
     ]
    },
    {
     "data": {
      "text/plain": [
       "<Figure size 640x480 with 0 Axes>"
      ]
     },
     "metadata": {},
     "output_type": "display_data"
    }
   ],
   "source": [
    "\n",
    "# Plot the permutation importance\n",
    "plt.figure(figsize=(10, 6))\n",
    "sorted_important_features = np.array(pedQuants)[sorted_idx]\n",
    "sorted_importances_mean = importances_mean[sorted_idx]\n",
    "bars=plt.barh(range(len(sorted_importances_mean)), sorted_importances_mean,  xerr=importances_std[sorted_idx], left = 0)\n",
    "plt.yticks(range(len(importances_mean[sorted_idx])), sorted_important_features, fontsize=20)\n",
    "plt.xticks(fontsize=20)\n",
    "plt.xlabel(r\"Permutation Importance\", fontsize=20)\n",
    "# plt.title(r\"Permutation Importances in Random Forest Model for $\\beta_{\\mathrm{ped}}$\")\n",
    "plt.show()\n",
    "plt.savefig(\"plots/permutation_importance_\"+plotName+\"_sampleEvery\"+str(sampleEvery)+\".png\",bbox_inches='tight', pad_inches=0.1)\n",
    "print(sorted_importances_mean)\n"
   ]
  },
  {
   "cell_type": "code",
   "execution_count": null,
   "metadata": {},
   "outputs": [
    {
     "data": {
      "image/png": "[encoded data removed]",
      "text/plain": [
       "<Figure size 1000x800 with 2 Axes>"
      ]
     },
     "metadata": {},
     "output_type": "display_data"
    },
    {
     "data": {
      "text/plain": [
       "<Figure size 640x480 with 0 Axes>"
      ]
     },
     "metadata": {},
     "output_type": "display_data"
    }
   ],
   "source": [
    "\n",
    "df = pd.DataFrame(X_sub)\n",
    "\n",
    "\n",
    "# Compute the Spearman correlation matrix\n",
    "spearman_corr = df.corr(method='spearman')\n",
    "\n",
    "# Zero out the upper triangle of the correlation matrix, excluding the diagonal\n",
    "mask = np.triu(np.ones_like(spearman_corr, dtype=bool), k=1)\n",
    "spearman_corr.values[mask] = np.nan  # Using NaN to avoid displaying zero and to avoid confusion with actual zero correlations\n",
    "\n",
    "# Plotting the correlation matrix\n",
    "plt.figure(figsize=(10, 8))\n",
    "ax=sns.heatmap(np.round(spearman_corr, 1), annot=True, cmap='coolwarm', vmin=-1, vmax=1,xticklabels=pedQuants, yticklabels=pedQuants)\n",
    "ax.set_yticklabels(ax.get_yticklabels(),rotation=00)\n",
    "plt.title('Spearman Correlation Matrix')\n",
    "plt.show()\n",
    "plt.savefig(\"plots/spearman_\"+plotName+\"_sampleEvery\"+str(sampleEvery)+\".png\")\n",
    "\n"
   ]
  },
  {
   "cell_type": "code",
   "execution_count": null,
   "metadata": {},
   "outputs": [],
   "source": []
  },
  {
   "cell_type": "code",
   "execution_count": null,
   "metadata": {},
   "outputs": [],
   "source": []
  },
  {
   "cell_type": "code",
   "execution_count": null,
   "metadata": {},
   "outputs": [],
   "source": []
  }
 ],
 "metadata": {
  "kernelspec": {
   "display_name": "Python 3",
   "language": "python",
   "name": "python3"
  },
  "language_info": {
   "codemirror_mode": {
    "name": "ipython",
    "version": 3
   },
   "file_extension": ".py",
   "mimetype": "text/x-python",
   "name": "python",
   "nbconvert_exporter": "python",
   "pygments_lexer": "ipython3",
   "version": "3.11.7"
  }
 },
 "nbformat": 4,
 "nbformat_minor": 2
}
